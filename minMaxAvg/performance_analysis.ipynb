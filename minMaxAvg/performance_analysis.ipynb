{
 "cells": [
  {
   "cell_type": "code",
   "execution_count": 10,
   "id": "c76bd848",
   "metadata": {},
   "outputs": [],
   "source": [
    "import numpy as np\n",
    "import seaborn as sns\n",
    "import pandas as pd\n",
    "import os"
   ]
  },
  {
   "cell_type": "code",
   "execution_count": 12,
   "id": "48833850",
   "metadata": {},
   "outputs": [
    {
     "data": {
      "text/plain": [
       "'100'"
      ]
     },
     "execution_count": 12,
     "metadata": {},
     "output_type": "execute_result"
    }
   ],
   "source": []
  },
  {
   "cell_type": "markdown",
   "id": "11d9b7e4",
   "metadata": {},
   "source": [
    "# Loading data"
   ]
  },
  {
   "cell_type": "code",
   "execution_count": 22,
   "id": "4599908c",
   "metadata": {},
   "outputs": [
    {
     "data": {
      "text/html": [
       "<div>\n",
       "<style scoped>\n",
       "    .dataframe tbody tr th:only-of-type {\n",
       "        vertical-align: middle;\n",
       "    }\n",
       "\n",
       "    .dataframe tbody tr th {\n",
       "        vertical-align: top;\n",
       "    }\n",
       "\n",
       "    .dataframe thead th {\n",
       "        text-align: right;\n",
       "    }\n",
       "</style>\n",
       "<table border=\"1\" class=\"dataframe\">\n",
       "  <thead>\n",
       "    <tr style=\"text-align: right;\">\n",
       "      <th></th>\n",
       "      <th>Experiment</th>\n",
       "      <th>Version</th>\n",
       "      <th>Fit_weights</th>\n",
       "      <th>Seed</th>\n",
       "      <th>Performance</th>\n",
       "    </tr>\n",
       "  </thead>\n",
       "  <tbody>\n",
       "    <tr>\n",
       "      <th>0</th>\n",
       "      <td>halfcheetah</td>\n",
       "      <td>v5</td>\n",
       "      <td>max100-avg0-min0</td>\n",
       "      <td>1</td>\n",
       "      <td>1437.66</td>\n",
       "    </tr>\n",
       "    <tr>\n",
       "      <th>1</th>\n",
       "      <td>halfcheetah</td>\n",
       "      <td>v5</td>\n",
       "      <td>max100-avg0-min0</td>\n",
       "      <td>2</td>\n",
       "      <td>2328.69</td>\n",
       "    </tr>\n",
       "    <tr>\n",
       "      <th>2</th>\n",
       "      <td>halfcheetah</td>\n",
       "      <td>v5</td>\n",
       "      <td>max100-avg0-min0</td>\n",
       "      <td>3</td>\n",
       "      <td>1251.49</td>\n",
       "    </tr>\n",
       "    <tr>\n",
       "      <th>3</th>\n",
       "      <td>halfcheetah</td>\n",
       "      <td>v5</td>\n",
       "      <td>max100-avg0-min0</td>\n",
       "      <td>4</td>\n",
       "      <td>1551.41</td>\n",
       "    </tr>\n",
       "    <tr>\n",
       "      <th>4</th>\n",
       "      <td>halfcheetah</td>\n",
       "      <td>v5</td>\n",
       "      <td>max100-avg0-min0</td>\n",
       "      <td>5</td>\n",
       "      <td>1985.99</td>\n",
       "    </tr>\n",
       "    <tr>\n",
       "      <th>...</th>\n",
       "      <td>...</td>\n",
       "      <td>...</td>\n",
       "      <td>...</td>\n",
       "      <td>...</td>\n",
       "      <td>...</td>\n",
       "    </tr>\n",
       "    <tr>\n",
       "      <th>145</th>\n",
       "      <td>hopper</td>\n",
       "      <td>v5</td>\n",
       "      <td>max0-avg100-min0</td>\n",
       "      <td>6</td>\n",
       "      <td>1521.98</td>\n",
       "    </tr>\n",
       "    <tr>\n",
       "      <th>146</th>\n",
       "      <td>hopper</td>\n",
       "      <td>v5</td>\n",
       "      <td>max0-avg100-min0</td>\n",
       "      <td>7</td>\n",
       "      <td>2143.59</td>\n",
       "    </tr>\n",
       "    <tr>\n",
       "      <th>147</th>\n",
       "      <td>hopper</td>\n",
       "      <td>v5</td>\n",
       "      <td>max0-avg100-min0</td>\n",
       "      <td>8</td>\n",
       "      <td>1849.14</td>\n",
       "    </tr>\n",
       "    <tr>\n",
       "      <th>148</th>\n",
       "      <td>hopper</td>\n",
       "      <td>v5</td>\n",
       "      <td>max0-avg100-min0</td>\n",
       "      <td>9</td>\n",
       "      <td>1320.83</td>\n",
       "    </tr>\n",
       "    <tr>\n",
       "      <th>149</th>\n",
       "      <td>hopper</td>\n",
       "      <td>v5</td>\n",
       "      <td>max0-avg100-min0</td>\n",
       "      <td>10</td>\n",
       "      <td>2085.31</td>\n",
       "    </tr>\n",
       "  </tbody>\n",
       "</table>\n",
       "<p>150 rows × 5 columns</p>\n",
       "</div>"
      ],
      "text/plain": [
       "      Experiment Version       Fit_weights  Seed  Performance\n",
       "0    halfcheetah      v5  max100-avg0-min0     1      1437.66\n",
       "1    halfcheetah      v5  max100-avg0-min0     2      2328.69\n",
       "2    halfcheetah      v5  max100-avg0-min0     3      1251.49\n",
       "3    halfcheetah      v5  max100-avg0-min0     4      1551.41\n",
       "4    halfcheetah      v5  max100-avg0-min0     5      1985.99\n",
       "..           ...     ...               ...   ...          ...\n",
       "145       hopper      v5  max0-avg100-min0     6      1521.98\n",
       "146       hopper      v5  max0-avg100-min0     7      2143.59\n",
       "147       hopper      v5  max0-avg100-min0     8      1849.14\n",
       "148       hopper      v5  max0-avg100-min0     9      1320.83\n",
       "149       hopper      v5  max0-avg100-min0    10      2085.31\n",
       "\n",
       "[150 rows x 5 columns]"
      ]
     },
     "execution_count": 22,
     "metadata": {},
     "output_type": "execute_result"
    }
   ],
   "source": [
    "dir_exp = \"experiments\"\n",
    "exp_list = os.listdir(dir_exp)\n",
    "col_headers = [\"Experiment\",\"Version\",\"Fit_weights\",\"Seed\",\"Performance\"]\n",
    "vec_data =[]\n",
    "for exp in exp_list:\n",
    "    exp_data = exp.split(\"_\")\n",
    "    for seed in range(1,11):\n",
    "        f = open(f\"{dir_exp}/{exp}/S{seed}.fit\", \"r\")\n",
    "        vec_data.append(exp_data[:2]+[f\"{exp_data[2]}-{exp_data[3]}-{exp_data[4]}\"]+[seed,float(f.read().split(\"bestsam\")[0].split(\"bestgfit\")[1].strip())])        \n",
    "df = pd.DataFrame(vec_data,columns=col_headers)\n",
    "df"
   ]
  },
  {
   "cell_type": "code",
   "execution_count": 27,
   "id": "0e64bbfe",
   "metadata": {},
   "outputs": [
    {
     "data": {
      "text/plain": [
       "<AxesSubplot:xlabel='Experiment', ylabel='Performance'>"
      ]
     },
     "execution_count": 27,
     "metadata": {},
     "output_type": "execute_result"
    },
    {
     "data": {
      "image/png": "[encoded data removed]",
      "text/plain": [
       "<Figure size 864x648 with 1 Axes>"
      ]
     },
     "metadata": {},
     "output_type": "display_data"
    }
   ],
   "source": [
    "sns.set(rc={\"figure.figsize\":(12, 9)}) #width=3, #height=4\n",
    "sns.boxplot(data=df,x=\"Experiment\",y=\"Performance\",hue=\"Fit_weights\")"
   ]
  },
  {
   "cell_type": "code",
   "execution_count": 14,
   "id": "d31426e4",
   "metadata": {},
   "outputs": [
    {
     "data": {
      "text/plain": [
       "['hopper', 'v5', 'max0', 'avg100', 'min0']"
      ]
     },
     "execution_count": 14,
     "metadata": {},
     "output_type": "execute_result"
    }
   ],
   "source": [
    "exp_data"
   ]
  }
 ],
 "metadata": {
  "kernelspec": {
   "display_name": "Python 3",
   "language": "python",
   "name": "python3"
  },
  "language_info": {
   "codemirror_mode": {
    "name": "ipython",
    "version": 3
   },
   "file_extension": ".py",
   "mimetype": "text/x-python",
   "name": "python",
   "nbconvert_exporter": "python",
   "pygments_lexer": "ipython3",
   "version": "3.8.8"
  }
 },
 "nbformat": 4,
 "nbformat_minor": 5
}
