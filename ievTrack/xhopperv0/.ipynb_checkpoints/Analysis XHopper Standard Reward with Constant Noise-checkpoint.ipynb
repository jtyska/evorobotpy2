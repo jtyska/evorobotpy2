{
 "cells": [
  {
   "cell_type": "code",
   "execution_count": 1,
   "metadata": {},
   "outputs": [
    {
     "name": "stdout",
     "output_type": "stream",
     "text": [
      "'Analysis XHopper Standard Reward with Constant Noise.ipynb'   hopper.ini\r\n",
      " bestgS10.npy\t\t\t\t\t\t       S10.fit\r\n",
      " bestgS1.npy\t\t\t\t\t\t       S1.fit\r\n",
      " bestgS2.npy\t\t\t\t\t\t       S2.fit\r\n",
      " bestgS3.npy\t\t\t\t\t\t       S3.fit\r\n",
      " bestgS4.npy\t\t\t\t\t\t       S4.fit\r\n",
      " bestgS5.npy\t\t\t\t\t\t       S5.fit\r\n",
      " bestgS6.npy\t\t\t\t\t\t       S6.fit\r\n",
      " bestgS7.npy\t\t\t\t\t\t       S7.fit\r\n",
      " bestgS8.npy\t\t\t\t\t\t       S8.fit\r\n",
      " bestgS9.npy\t\t\t\t\t\t       S9.fit\r\n",
      " bestS10.npy\t\t\t\t\t\t       statS10.npy\r\n",
      " bestS1.npy\t\t\t\t\t\t       statS1.npy\r\n",
      " bestS2.npy\t\t\t\t\t\t       statS2.npy\r\n",
      " bestS3.npy\t\t\t\t\t\t       statS3.npy\r\n",
      " bestS4.npy\t\t\t\t\t\t       statS4.npy\r\n",
      " bestS5.npy\t\t\t\t\t\t       statS5.npy\r\n",
      " bestS6.npy\t\t\t\t\t\t       statS6.npy\r\n",
      " bestS7.npy\t\t\t\t\t\t       statS7.npy\r\n",
      " bestS8.npy\t\t\t\t\t\t       statS8.npy\r\n",
      " bestS9.npy\t\t\t\t\t\t       statS9.npy\r\n"
     ]
    }
   ],
   "source": [
    "!ls"
   ]
  }
 ],
 "metadata": {
  "kernelspec": {
   "display_name": "Python 3",
   "language": "python",
   "name": "python3"
  },
  "language_info": {
   "codemirror_mode": {
    "name": "ipython",
    "version": 3
   },
   "file_extension": ".py",
   "mimetype": "text/x-python",
   "name": "python",
   "nbconvert_exporter": "python",
   "pygments_lexer": "ipython3",
   "version": "3.8.10"
  }
 },
 "nbformat": 4,
 "nbformat_minor": 4
}
