{
 "cells": [
  {
   "cell_type": "code",
   "execution_count": 9,
   "metadata": {},
   "outputs": [],
   "source": [
    "import numpy as np\n",
    "import pandas as pd\n",
    "import seaborn as sns\n",
    "import matplotlib.pyplot as plt\n",
    "import re"
   ]
  },
  {
   "cell_type": "markdown",
   "metadata": {},
   "source": [
    "Configuring variables"
   ]
  },
  {
   "cell_type": "code",
   "execution_count": 20,
   "metadata": {},
   "outputs": [],
   "source": [
    "rootDir = \"ini_generator\"\n",
    "#expName = \"HopperBulletEnv-v0\"\n",
    "#expName = \"AntBulletEnv-v0\"\n",
    "expName = \"HalfCheetahBulletEnv-v0\"\n",
    "numExp = 12\n",
    "initSeed = 1\n",
    "numSeed = 10"
   ]
  },
  {
   "cell_type": "markdown",
   "metadata": {},
   "source": [
    "Loading data and plotting"
   ]
  },
  {
   "cell_type": "code",
   "execution_count": 21,
   "metadata": {},
   "outputs": [
    {
     "data": {
      "image/png": "[encoded data removed]",
      "text/plain": [
       "<Figure size 432x288 with 1 Axes>"
      ]
     },
     "metadata": {
      "needs_background": "light"
     },
     "output_type": "display_data"
    }
   ],
   "source": [
    "#init and automatically filled variables\n",
    "vStat = []\n",
    "iev = {}\n",
    "cv = {}\n",
    "experiments = [expName+\"-\"+str(x) for x in range(0,numExp)]\n",
    "\n",
    "for experiment in experiments:\n",
    "    expDir = f\"./{rootDir}/{experiment}\"\n",
    "    for i in range(initSeed,numSeed+1):\n",
    "        try:\n",
    "            f = open(f\"{expDir}/S{i}.fit\", \"r\")            \n",
    "        except:\n",
    "            print(f\"{expDir}/S{i}.fit didn't exist\")            \n",
    "            \n",
    "        line = f.read()            \n",
    "        m = re.search(\"bestgfit ([0-9]*.[0-9]{2})\", line)\n",
    "        if m:\n",
    "            best_g_fit = float(m.group(1))\n",
    "        else:\n",
    "            print(f\"Couldn't extract the best_g_fit from {expDir}/S{i}.fit\")\n",
    "\n",
    "        vStat.append((experiment, i, best_g_fit))\n",
    "            \n",
    "        try:\n",
    "            if experiment not in iev.keys():\n",
    "                iev[experiment] = []\n",
    "                cv[experiment] = []                \n",
    "            iev[experiment].append(np.load(f\"{experiment}/S{i}.iev.npy\", \"r\"))\n",
    "            cv[experiment].append(np.load(f\"{experiment}/S{i}.cv.npy\", \"r\"))\n",
    "        except:\n",
    "            pass\n",
    "            \n",
    "#print(f\"Average performance on {numSeed} seeds: {np.mean(vStat)} - Std deviation: {np.std(vStat)}\")\n",
    "df = pd.DataFrame(vStat,columns=['experiment','seed','performance'])\n",
    "ax = sns.boxplot(x=df.experiment,y=df.performance)\n",
    "aux = plt.xticks(rotation=75)"
   ]
  },
  {
   "cell_type": "code",
   "execution_count": 29,
   "metadata": {},
   "outputs": [
    {
     "name": "stdout",
     "output_type": "stream",
     "text": [
      "<re.Match object; span=(51, 67), match='bestgfit 1270.97'>\n",
      "1270.97\n"
     ]
    }
   ],
   "source": [
    "import re\n",
    "\n",
    "t = \"Seed 10 (100.2%) gen 285 msteps 50 bestfit 1327.36 bestgfit 1270.97 bestsam 1311.90 avgfit 922.21 paramsize 0.09\"\n",
    "m = re.search(\"bestgfit ([0-9]*.[0-9]{2})\", t)\n",
    "print(m)\n",
    "if m:\n",
    "   print(m.group(1))"
   ]
  },
  {
   "cell_type": "code",
   "execution_count": 12,
   "metadata": {},
   "outputs": [
    {
     "data": {
      "text/html": [
       "<div>\n",
       "<style scoped>\n",
       "    .dataframe tbody tr th:only-of-type {\n",
       "        vertical-align: middle;\n",
       "    }\n",
       "\n",
       "    .dataframe tbody tr th {\n",
       "        vertical-align: top;\n",
       "    }\n",
       "\n",
       "    .dataframe thead th {\n",
       "        text-align: right;\n",
       "    }\n",
       "</style>\n",
       "<table border=\"1\" class=\"dataframe\">\n",
       "  <thead>\n",
       "    <tr style=\"text-align: right;\">\n",
       "      <th></th>\n",
       "      <th>experiment</th>\n",
       "      <th>seed</th>\n",
       "      <th>performance</th>\n",
       "    </tr>\n",
       "  </thead>\n",
       "  <tbody>\n",
       "    <tr>\n",
       "      <th>90</th>\n",
       "      <td>HopperBulletEnv-v0-9</td>\n",
       "      <td>1</td>\n",
       "      <td>1265.84</td>\n",
       "    </tr>\n",
       "    <tr>\n",
       "      <th>91</th>\n",
       "      <td>HopperBulletEnv-v0-9</td>\n",
       "      <td>2</td>\n",
       "      <td>552.41</td>\n",
       "    </tr>\n",
       "    <tr>\n",
       "      <th>92</th>\n",
       "      <td>HopperBulletEnv-v0-9</td>\n",
       "      <td>3</td>\n",
       "      <td>552.01</td>\n",
       "    </tr>\n",
       "    <tr>\n",
       "      <th>93</th>\n",
       "      <td>HopperBulletEnv-v0-9</td>\n",
       "      <td>4</td>\n",
       "      <td>1233.41</td>\n",
       "    </tr>\n",
       "    <tr>\n",
       "      <th>94</th>\n",
       "      <td>HopperBulletEnv-v0-9</td>\n",
       "      <td>5</td>\n",
       "      <td>546.85</td>\n",
       "    </tr>\n",
       "    <tr>\n",
       "      <th>95</th>\n",
       "      <td>HopperBulletEnv-v0-9</td>\n",
       "      <td>6</td>\n",
       "      <td>546.41</td>\n",
       "    </tr>\n",
       "    <tr>\n",
       "      <th>96</th>\n",
       "      <td>HopperBulletEnv-v0-9</td>\n",
       "      <td>7</td>\n",
       "      <td>536.42</td>\n",
       "    </tr>\n",
       "    <tr>\n",
       "      <th>97</th>\n",
       "      <td>HopperBulletEnv-v0-9</td>\n",
       "      <td>8</td>\n",
       "      <td>532.70</td>\n",
       "    </tr>\n",
       "    <tr>\n",
       "      <th>98</th>\n",
       "      <td>HopperBulletEnv-v0-9</td>\n",
       "      <td>9</td>\n",
       "      <td>1082.46</td>\n",
       "    </tr>\n",
       "    <tr>\n",
       "      <th>99</th>\n",
       "      <td>HopperBulletEnv-v0-9</td>\n",
       "      <td>10</td>\n",
       "      <td>542.71</td>\n",
       "    </tr>\n",
       "  </tbody>\n",
       "</table>\n",
       "</div>"
      ],
      "text/plain": [
       "              experiment  seed  performance\n",
       "90  HopperBulletEnv-v0-9     1      1265.84\n",
       "91  HopperBulletEnv-v0-9     2       552.41\n",
       "92  HopperBulletEnv-v0-9     3       552.01\n",
       "93  HopperBulletEnv-v0-9     4      1233.41\n",
       "94  HopperBulletEnv-v0-9     5       546.85\n",
       "95  HopperBulletEnv-v0-9     6       546.41\n",
       "96  HopperBulletEnv-v0-9     7       536.42\n",
       "97  HopperBulletEnv-v0-9     8       532.70\n",
       "98  HopperBulletEnv-v0-9     9      1082.46\n",
       "99  HopperBulletEnv-v0-9    10       542.71"
      ]
     },
     "execution_count": 12,
     "metadata": {},
     "output_type": "execute_result"
    }
   ],
   "source": [
    "ver = 9\n",
    "df[df['experiment']==expName+f\"-{ver}\"]"
   ]
  }
 ],
 "metadata": {
  "kernelspec": {
   "display_name": "Python 3",
   "language": "python",
   "name": "python3"
  },
  "language_info": {
   "codemirror_mode": {
    "name": "ipython",
    "version": 3
   },
   "file_extension": ".py",
   "mimetype": "text/x-python",
   "name": "python",
   "nbconvert_exporter": "python",
   "pygments_lexer": "ipython3",
   "version": "3.8.10"
  }
 },
 "nbformat": 4,
 "nbformat_minor": 4
}
