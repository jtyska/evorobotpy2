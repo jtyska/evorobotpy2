{
 "cells": [
  {
   "cell_type": "code",
   "execution_count": 1,
   "id": "48fa24f7",
   "metadata": {},
   "outputs": [],
   "source": [
    "import numpy as np\n",
    "import pandas as pd\n",
    "import seaborn as sns\n",
    "sns.set(rc={\"figure.figsize\":(16, 8)}) #width=3, #height=4\n",
    "import matplotlib.pyplot as plt\n",
    "import os"
   ]
  },
  {
   "cell_type": "markdown",
   "id": "b5df3b65",
   "metadata": {},
   "source": [
    "# 1. Loading data"
   ]
  },
  {
   "cell_type": "markdown",
   "id": "6bfcbdc6",
   "metadata": {},
   "source": [
    "## 1.1 Raw data"
   ]
  },
  {
   "cell_type": "code",
   "execution_count": 2,
   "id": "304d28ce",
   "metadata": {},
   "outputs": [],
   "source": [
    "dataDir = \"./experiments\"\n",
    "expDirs = !ls {dataDir}\n",
    "\n",
    "columns = ['Experiment','Task','Seed','Noise per steps','Trial','Reward','steps_taken']\n",
    "data = pd.DataFrame(columns=columns)\n",
    "\n",
    "for expDir in expDirs:\n",
    "    tmp = expDir.split(\"_\")\n",
    "    task= tmp[0]\n",
    "    episodes = tmp[1] \n",
    "       \n",
    "    for i in range(1,11):\n",
    "            try:\n",
    "                data_seed = pd.read_csv(os.path.join(dataDir,expDir,f'robustness_bestgS{i}.npy.csv'))\n",
    "                data_seed.loc[:,'Experiment'] = exp\n",
    "                data_seed.loc[:,'Task'] = task\n",
    "                data_seed.loc[:,'Seed'] = i\n",
    "                data_seed.loc[:,'Noise per steps'] = data_seed['noise_level'].astype('str')+' - '+data_seed['corr_n_steps'].astype('str')\n",
    "                data = data.append(data_seed)\n",
    "            except:\n",
    "                print(f'Data from {os.path.join(exp,task,f\"robustness_bestgS{i}.npy.csv\")} couldn\\'t be loaded. Skipping.')\n",
    "\n",
    "data.drop('Unnamed: 0',axis=1,inplace=True)\n",
    "expList = data['Experiment'].unique()\n",
    "taskList = data['Task'].unique()\n",
    "noiseLevelList = data['noise_level'].unique()\n",
    "noiseStepsList = data['corr_n_steps'].unique()"
   ]
  },
  {
   "cell_type": "markdown",
   "id": "ab87cecf",
   "metadata": {},
   "source": [
    "## 1.2 Creating a pivot table that aggregates (avg) the trials"
   ]
  },
  {
   "cell_type": "code",
   "execution_count": 3,
   "id": "13eb0fa6",
   "metadata": {},
   "outputs": [
    {
     "data": {
      "text/plain": [
       "(25000, 7)"
      ]
     },
     "execution_count": 3,
     "metadata": {},
     "output_type": "execute_result"
    }
   ],
   "source": [
    "## Creating a pivot_table and an aggregated (data_plot) version of the df\n",
    "table_data = pd.pivot_table(data,values=['Reward','steps_taken'],index=['Experiment','Task','noise_level','corr_n_steps','Seed'],aggfunc=np.mean)\n",
    "data_plot = pd.DataFrame()\n",
    "for exp in expList:\n",
    "    for task in taskList:\n",
    "        for noise in noiseLevelList:\n",
    "            try:\n",
    "                table_data.loc[exp, task]\n",
    "            except:\n",
    "                print(f\"Pivot table loading. Experiment {exp}/{task} doesn't exist. Skipping.\")\n",
    "            else:\n",
    "                for steps in noiseStepsList:\n",
    "                    #exp2 = exp\n",
    "                    #task2 = task\n",
    "                    #if exp == 'robustnessTest':\n",
    "                    #    tmp = task.split(\"_\")\n",
    "                    #    exp2 = tmp[0]\n",
    "                    #    task2 = tmp[1]\n",
    "                    data_tmp = table_data.loc[exp, task, noise,steps].copy()\n",
    "                    data_tmp['Experiment'] = exp\n",
    "                    data_tmp['Task'] = task\n",
    "                    data_tmp['noise_level'] = noise        \n",
    "                    data_tmp['noise_steps'] = steps\n",
    "                    data_tmp['Noise per steps'] = f\"{noise} - {steps}\"\n",
    "                    data_plot = data_plot.append(data_tmp)\n",
    "data_plot.shape"
   ]
  },
  {
   "cell_type": "markdown",
   "id": "374a44e1",
   "metadata": {},
   "source": [
    "# 2. Plotting data"
   ]
  },
  {
   "cell_type": "code",
   "execution_count": 4,
   "id": "85e4163a",
   "metadata": {},
   "outputs": [],
   "source": [
    "def plotExpTaskList(explist, tasklist, title = \"Define your title\",axis=None,noise_level=[0.01, 0.07, 0.13, 0.19, 0.25, 0.31, 0.37, 0.43, 0.49, 0.55],noise_steps=[1]):\n",
    "    experiment_param = \",\".join([f'\\'{x}\\'' for x in expList])    \n",
    "    if axis is None:\n",
    "        fig, axis = plt.subplot(1,1)\n",
    "    ax = sns.boxplot(\n",
    "        data=data_plot.query(\n",
    "            f' \\\n",
    "            Experiment.isin(@expList) and  \\\n",
    "            Task.isin(@taskList) and \\\n",
    "            noise_level == (@noise_level) and \\\n",
    "            noise_steps == (@noise_steps)'\n",
    "        ,engine=\"python\"),\n",
    "        x='Task',\n",
    "        y='Reward',\n",
    "        hue='Experiment',\n",
    "        hue_order=['incnoise-fixed','incnoise-fix03','incnoise-fix06','incnoise0104','incnoise0106','incnoisegen08'],\n",
    "        ax=axis)\n",
    "    _ = ax.set(xlabel='Experiment',\n",
    "           ylabel='Fitness',\n",
    "           title=title)\n",
    "    _ = ax.set_xticklabels([\"hopper\",\"ant\",\"halfcheetah\"])\n",
    "    _ = ax.set_xticklabels(ax.get_xticklabels(), rotation=45)\n",
    "    return ax"
   ]
  },
  {
   "cell_type": "code",
   "execution_count": 5,
   "id": "fd63a487",
   "metadata": {},
   "outputs": [],
   "source": [
    "def plotExpTaskListStd(explist, tasklist, title = \"Define your title\",axis=None, noise_level=[0.01],noise_steps=[1]):\n",
    "    experiment_param = \",\".join([f'\\'{x}\\'' for x in expList])\n",
    "    if axis is None:\n",
    "        fig, axis = plt.subplot(1,1)\n",
    "    ax = sns.boxplot(\n",
    "        data=data_plot.query(\n",
    "            f' \\\n",
    "            Experiment.isin(@expList) and  \\\n",
    "            Task.isin(@taskList) and \\\n",
    "            noise_level == (@noise_level) and \\\n",
    "            noise_steps == (@noise_steps)'\n",
    "        ,engine=\"python\"),\n",
    "        x='Task',\n",
    "        y='Reward',\n",
    "        hue='Experiment',\n",
    "        hue_order=['incnoise-fixed','incnoise-fix03','incnoise-fix06','incnoise0104','incnoise0106','incnoisegen08'],\n",
    "        ax=axis)\n",
    "    _ = ax.set(xlabel='Experiment',\n",
    "           ylabel='Fitness',\n",
    "           title=title)\n",
    "    _ = ax.set_xticklabels([\"hopper\",\"ant\",\"halfcheetah\"])\n",
    "    _ = ax.set_xticklabels(ax.get_xticklabels(), rotation=45)\n",
    "    return ax"
   ]
  },
  {
   "cell_type": "markdown",
   "id": "2a835110",
   "metadata": {},
   "source": [
    "### Plotting fixed noise by experiment"
   ]
  },
  {
   "cell_type": "code",
   "execution_count": 6,
   "id": "f7c30ca7",
   "metadata": {},
   "outputs": [
    {
     "data": {
      "text/html": [
       "<div>\n",
       "<style scoped>\n",
       "    .dataframe tbody tr th:only-of-type {\n",
       "        vertical-align: middle;\n",
       "    }\n",
       "\n",
       "    .dataframe tbody tr th {\n",
       "        vertical-align: top;\n",
       "    }\n",
       "\n",
       "    .dataframe thead th {\n",
       "        text-align: right;\n",
       "    }\n",
       "</style>\n",
       "<table border=\"1\" class=\"dataframe\">\n",
       "  <thead>\n",
       "    <tr style=\"text-align: right;\">\n",
       "      <th></th>\n",
       "      <th>Reward</th>\n",
       "      <th>steps_taken</th>\n",
       "      <th>Experiment</th>\n",
       "      <th>Task</th>\n",
       "      <th>noise_level</th>\n",
       "      <th>noise_steps</th>\n",
       "      <th>Noise per steps</th>\n",
       "    </tr>\n",
       "    <tr>\n",
       "      <th>Seed</th>\n",
       "      <th></th>\n",
       "      <th></th>\n",
       "      <th></th>\n",
       "      <th></th>\n",
       "      <th></th>\n",
       "      <th></th>\n",
       "      <th></th>\n",
       "    </tr>\n",
       "  </thead>\n",
       "  <tbody>\n",
       "    <tr>\n",
       "      <th>1</th>\n",
       "      <td>2135.027370</td>\n",
       "      <td>1000.0</td>\n",
       "      <td>10trials</td>\n",
       "      <td>xant</td>\n",
       "      <td>0.01</td>\n",
       "      <td>1.0</td>\n",
       "      <td>0.01 - 1.0</td>\n",
       "    </tr>\n",
       "    <tr>\n",
       "      <th>2</th>\n",
       "      <td>903.917633</td>\n",
       "      <td>1000.0</td>\n",
       "      <td>10trials</td>\n",
       "      <td>xant</td>\n",
       "      <td>0.01</td>\n",
       "      <td>1.0</td>\n",
       "      <td>0.01 - 1.0</td>\n",
       "    </tr>\n",
       "    <tr>\n",
       "      <th>3</th>\n",
       "      <td>1693.153828</td>\n",
       "      <td>1000.0</td>\n",
       "      <td>10trials</td>\n",
       "      <td>xant</td>\n",
       "      <td>0.01</td>\n",
       "      <td>1.0</td>\n",
       "      <td>0.01 - 1.0</td>\n",
       "    </tr>\n",
       "    <tr>\n",
       "      <th>4</th>\n",
       "      <td>1667.696133</td>\n",
       "      <td>1000.0</td>\n",
       "      <td>10trials</td>\n",
       "      <td>xant</td>\n",
       "      <td>0.01</td>\n",
       "      <td>1.0</td>\n",
       "      <td>0.01 - 1.0</td>\n",
       "    </tr>\n",
       "    <tr>\n",
       "      <th>5</th>\n",
       "      <td>1335.889879</td>\n",
       "      <td>1000.0</td>\n",
       "      <td>10trials</td>\n",
       "      <td>xant</td>\n",
       "      <td>0.01</td>\n",
       "      <td>1.0</td>\n",
       "      <td>0.01 - 1.0</td>\n",
       "    </tr>\n",
       "    <tr>\n",
       "      <th>...</th>\n",
       "      <td>...</td>\n",
       "      <td>...</td>\n",
       "      <td>...</td>\n",
       "      <td>...</td>\n",
       "      <td>...</td>\n",
       "      <td>...</td>\n",
       "      <td>...</td>\n",
       "    </tr>\n",
       "    <tr>\n",
       "      <th>6</th>\n",
       "      <td>65.082770</td>\n",
       "      <td>102.0</td>\n",
       "      <td>5trials</td>\n",
       "      <td>xwalker</td>\n",
       "      <td>0.55</td>\n",
       "      <td>10.0</td>\n",
       "      <td>0.55 - 10.0</td>\n",
       "    </tr>\n",
       "    <tr>\n",
       "      <th>7</th>\n",
       "      <td>20.610822</td>\n",
       "      <td>635.8</td>\n",
       "      <td>5trials</td>\n",
       "      <td>xwalker</td>\n",
       "      <td>0.55</td>\n",
       "      <td>10.0</td>\n",
       "      <td>0.55 - 10.0</td>\n",
       "    </tr>\n",
       "    <tr>\n",
       "      <th>8</th>\n",
       "      <td>85.563908</td>\n",
       "      <td>104.0</td>\n",
       "      <td>5trials</td>\n",
       "      <td>xwalker</td>\n",
       "      <td>0.55</td>\n",
       "      <td>10.0</td>\n",
       "      <td>0.55 - 10.0</td>\n",
       "    </tr>\n",
       "    <tr>\n",
       "      <th>9</th>\n",
       "      <td>38.058431</td>\n",
       "      <td>58.2</td>\n",
       "      <td>5trials</td>\n",
       "      <td>xwalker</td>\n",
       "      <td>0.55</td>\n",
       "      <td>10.0</td>\n",
       "      <td>0.55 - 10.0</td>\n",
       "    </tr>\n",
       "    <tr>\n",
       "      <th>10</th>\n",
       "      <td>35.571988</td>\n",
       "      <td>114.1</td>\n",
       "      <td>5trials</td>\n",
       "      <td>xwalker</td>\n",
       "      <td>0.55</td>\n",
       "      <td>10.0</td>\n",
       "      <td>0.55 - 10.0</td>\n",
       "    </tr>\n",
       "  </tbody>\n",
       "</table>\n",
       "<p>25000 rows × 7 columns</p>\n",
       "</div>"
      ],
      "text/plain": [
       "           Reward  steps_taken Experiment     Task  noise_level  noise_steps  \\\n",
       "Seed                                                                           \n",
       "1     2135.027370       1000.0   10trials     xant         0.01          1.0   \n",
       "2      903.917633       1000.0   10trials     xant         0.01          1.0   \n",
       "3     1693.153828       1000.0   10trials     xant         0.01          1.0   \n",
       "4     1667.696133       1000.0   10trials     xant         0.01          1.0   \n",
       "5     1335.889879       1000.0   10trials     xant         0.01          1.0   \n",
       "...           ...          ...        ...      ...          ...          ...   \n",
       "6       65.082770        102.0    5trials  xwalker         0.55         10.0   \n",
       "7       20.610822        635.8    5trials  xwalker         0.55         10.0   \n",
       "8       85.563908        104.0    5trials  xwalker         0.55         10.0   \n",
       "9       38.058431         58.2    5trials  xwalker         0.55         10.0   \n",
       "10      35.571988        114.1    5trials  xwalker         0.55         10.0   \n",
       "\n",
       "     Noise per steps  \n",
       "Seed                  \n",
       "1         0.01 - 1.0  \n",
       "2         0.01 - 1.0  \n",
       "3         0.01 - 1.0  \n",
       "4         0.01 - 1.0  \n",
       "5         0.01 - 1.0  \n",
       "...              ...  \n",
       "6        0.55 - 10.0  \n",
       "7        0.55 - 10.0  \n",
       "8        0.55 - 10.0  \n",
       "9        0.55 - 10.0  \n",
       "10       0.55 - 10.0  \n",
       "\n",
       "[25000 rows x 7 columns]"
      ]
     },
     "execution_count": 6,
     "metadata": {},
     "output_type": "execute_result"
    }
   ],
   "source": [
    "data_plot"
   ]
  },
  {
   "cell_type": "markdown",
   "id": "311bad37",
   "metadata": {},
   "source": [
    "### Robustness Overview"
   ]
  },
  {
   "cell_type": "code",
   "execution_count": 7,
   "id": "913d4aa7",
   "metadata": {},
   "outputs": [
    {
     "data": {
      "image/png": "[encoded data removed]",
      "text/plain": [
       "<Figure size 1152x576 with 1 Axes>"
      ]
     },
     "metadata": {},
     "output_type": "display_data"
    }
   ],
   "source": [
    "ax = sns.boxplot(\n",
    "    data=data_plot,\n",
    "    x='Task',\n",
    "    y='Reward',\n",
    "    hue='Experiment',\n",
    "    hue_order=[\"1trial\",\"2trials\",\"3trials\",\"5trials\",\"10trials\"])\n",
    "_ = ax.set(xlabel='Task',\n",
    "       ylabel='Fitness',\n",
    "       title=f'Robustness Overview - Multiple Trials - 30% Env Var')\n",
    "_ = ax.set_xticklabels(ax.get_xticklabels(), rotation=45)"
   ]
  },
  {
   "cell_type": "markdown",
   "id": "3379d473",
   "metadata": {},
   "source": [
    "### Standard Post-evaluation with 10 episodes"
   ]
  },
  {
   "cell_type": "code",
   "execution_count": 8,
   "id": "1eb4a80a",
   "metadata": {},
   "outputs": [
    {
     "data": {
      "text/plain": [
       "[Text(0, 0, 'hopper'),\n",
       " Text(1, 0, 'ant'),\n",
       " Text(2, 0, 'halfcheetah'),\n",
       " Text(3, 0, 'walker'),\n",
       " Text(4, 0, 'humanoid')]"
      ]
     },
     "execution_count": 8,
     "metadata": {},
     "output_type": "execute_result"
    },
    {
     "data": {
      "image/png": "[encoded data removed]",
      "text/plain": [
       "<Figure size 1152x576 with 1 Axes>"
      ]
     },
     "metadata": {},
     "output_type": "display_data"
    }
   ],
   "source": [
    "ax = sns.boxplot(\n",
    "    data=data_plot.loc[(data_plot['noise_level']==0.01) & (data_plot['noise_steps']==1)],\n",
    "    x='Task',\n",
    "    order=[\"xhopper\",\"xant\",\"xhalfcheetah\",\"xwalker\",\"xhumanoid\"],\n",
    "    y='Reward',\n",
    "    hue='Experiment',\n",
    "    hue_order=[\"1trial\",\"2trials\",\"3trials\",\"5trials\",\"10trials\"])\n",
    "_ = ax.set(xlabel='Task',\n",
    "       ylabel='Fitness',\n",
    "       title=f'')\n",
    "       #title=f'Post-evaluation with 10 episodes - multiple trials used for evaluation during evolution '\n",
    "ax.set_xticklabels([\"hopper\",\"ant\",\"halfcheetah\",\"walker\",\"humanoid\"])\n",
    "#_ = ax.set_xticklabels(ax.get_xticklabels(), rotation=45)"
   ]
  },
  {
   "cell_type": "markdown",
   "id": "dc229c7f",
   "metadata": {},
   "source": [
    "## Hypothesis testing for - Multiple trials"
   ]
  },
  {
   "cell_type": "code",
   "execution_count": 9,
   "id": "863cfb09",
   "metadata": {},
   "outputs": [],
   "source": [
    "from scipy.stats import *"
   ]
  },
  {
   "cell_type": "code",
   "execution_count": 10,
   "id": "aca4b9d9",
   "metadata": {},
   "outputs": [
    {
     "data": {
      "text/plain": [
       "array([ 977.19660332,  805.56076064, 1603.0395451 , 1760.0439619 ,\n",
       "       2035.93047745, 1618.68238298,  856.07361065, 1460.60114165,\n",
       "       1577.31119638, 2219.38830968])"
      ]
     },
     "execution_count": 10,
     "metadata": {},
     "output_type": "execute_result"
    }
   ],
   "source": [
    "np.array(data_plot.query(f\"Task=='xhopper' and Experiment=='1trial'\")['Reward'].head(10))"
   ]
  },
  {
   "cell_type": "code",
   "execution_count": 11,
   "id": "eb441214",
   "metadata": {},
   "outputs": [],
   "source": [
    "x = np.array(data_plot.query(f\"Task=='xhopper' and Experiment=='1trial' and noise_level==0.01 and noise_steps==1\")['Reward'])\n",
    "y = np.array(data_plot.query(f\"Task=='xhopper' and Experiment=='10trials' and noise_level==0.01 and noise_steps==1\")['Reward'])"
   ]
  },
  {
   "cell_type": "code",
   "execution_count": 12,
   "id": "388e664c",
   "metadata": {},
   "outputs": [
    {
     "name": "stdout",
     "output_type": "stream",
     "text": [
      "@@@@@@@@@@@@@ Mann-Whitney U with bonferroni correction (p<.0125) @@@@@@@@@@@@@@@@@@\n",
      "--------------------- FOR TASK = xant ---------------------\n",
      "######### comparing 1trial with 2trials\n",
      "stat=5.000, p=0.000\n",
      "Probably different distributions\n",
      "######### comparing 1trial with 3trials\n",
      "stat=2.000, p=0.000\n",
      "Probably different distributions\n",
      "######### comparing 1trial with 5trials\n",
      "stat=3.000, p=0.000\n",
      "Probably different distributions\n",
      "######### comparing 1trial with 10trials\n",
      "stat=2.000, p=0.000\n",
      "Probably different distributions\n",
      "--------------------- FOR TASK = xhalfcheetah ---------------------\n",
      "######### comparing 1trial with 2trials\n",
      "stat=44.000, p=0.339\n",
      "Probably the same distribution\n",
      "######### comparing 1trial with 3trials\n",
      "stat=32.000, p=0.093\n",
      "Probably the same distribution\n",
      "######### comparing 1trial with 5trials\n",
      "stat=33.000, p=0.106\n",
      "Probably the same distribution\n",
      "######### comparing 1trial with 10trials\n",
      "stat=29.000, p=0.061\n",
      "Probably the same distribution\n",
      "--------------------- FOR TASK = xhopper ---------------------\n",
      "######### comparing 1trial with 2trials\n",
      "stat=17.000, p=0.007\n",
      "Probably different distributions\n",
      "######### comparing 1trial with 3trials\n",
      "stat=9.000, p=0.001\n",
      "Probably different distributions\n",
      "######### comparing 1trial with 5trials\n",
      "stat=9.000, p=0.001\n",
      "Probably different distributions\n",
      "######### comparing 1trial with 10trials\n",
      "stat=5.000, p=0.000\n",
      "Probably different distributions\n",
      "--------------------- FOR TASK = xhumanoid ---------------------\n",
      "######### comparing 1trial with 2trials\n",
      "stat=0.000, p=0.000\n",
      "Probably different distributions\n",
      "######### comparing 1trial with 3trials\n",
      "stat=0.000, p=0.000\n",
      "Probably different distributions\n",
      "######### comparing 1trial with 5trials\n",
      "stat=0.000, p=0.000\n",
      "Probably different distributions\n",
      "######### comparing 1trial with 10trials\n",
      "stat=0.000, p=0.000\n",
      "Probably different distributions\n",
      "--------------------- FOR TASK = xwalker ---------------------\n",
      "######### comparing 1trial with 2trials\n",
      "stat=1.000, p=0.000\n",
      "Probably different distributions\n",
      "######### comparing 1trial with 3trials\n",
      "stat=0.000, p=0.000\n",
      "Probably different distributions\n",
      "######### comparing 1trial with 5trials\n",
      "stat=0.000, p=0.000\n",
      "Probably different distributions\n",
      "######### comparing 1trial with 10trials\n",
      "stat=0.000, p=0.000\n",
      "Probably different distributions\n"
     ]
    }
   ],
   "source": [
    "trials = [\"2trials\",\"3trials\",\"5trials\",\"10trials\"]\n",
    "experiments = data_plot['Task'].unique()\n",
    "print(f\"@@@@@@@@@@@@@ Mann-Whitney U with bonferroni correction (p<.0125) @@@@@@@@@@@@@@@@@@\")\n",
    "\n",
    "for exp in experiments:\n",
    "    data = []\n",
    "    ref_data = data_plot.query(f\"Task=='{exp}' and Experiment=='1trial'and noise_level==0.01 and noise_steps==1\")['Reward']\n",
    "    print(f\"--------------------- FOR TASK = {exp} ---------------------\")\n",
    "    for t in trials:        \n",
    "        print(f\"######### comparing 1trial with {t}\")\n",
    "        stat, p = mannwhitneyu(ref_data, data_plot.query(f\"Task=='xhopper' and Experiment=='{t}' and noise_level==0.01 and noise_steps==1\")['Reward'])\n",
    "        print('stat=%.3f, p=%.3f' % (stat, p))\n",
    "        if p > 0.0125:\n",
    "            print('Probably the same distribution')\n",
    "        else:\n",
    "            print('Probably different distributions')"
   ]
  },
  {
   "cell_type": "code",
   "execution_count": 13,
   "id": "7e1ca262",
   "metadata": {},
   "outputs": [
    {
     "name": "stdout",
     "output_type": "stream",
     "text": [
      "@@@@@@@@@@@@@ Mann-Whitney U with bonferroni correction (p<.0125) @@@@@@@@@@@@@@@@@@\n",
      "--------------------- FOR TASK = xant ---------------------\n",
      "######### Kruskal-Wallis H Test \n",
      "stat=23.250, p=0.000\n",
      "Probably different distributions\n",
      "--------------------- FOR TASK = xhalfcheetah ---------------------\n",
      "######### Kruskal-Wallis H Test \n",
      "stat=5.244, p=0.263\n",
      "Probably the same distribution\n",
      "--------------------- FOR TASK = xhopper ---------------------\n",
      "######### Kruskal-Wallis H Test \n",
      "stat=17.864, p=0.001\n",
      "Probably different distributions\n",
      "--------------------- FOR TASK = xhumanoid ---------------------\n",
      "######### Kruskal-Wallis H Test \n",
      "stat=25.840, p=0.000\n",
      "Probably different distributions\n",
      "--------------------- FOR TASK = xwalker ---------------------\n",
      "######### Kruskal-Wallis H Test \n",
      "stat=25.646, p=0.000\n",
      "Probably different distributions\n"
     ]
    }
   ],
   "source": [
    "trials = [\"2trials\",\"3trials\",\"5trials\",\"10trials\"]\n",
    "experiments = data_plot['Task'].unique()\n",
    "print(f\"@@@@@@@@@@@@@ Mann-Whitney U with bonferroni correction (p<.0125) @@@@@@@@@@@@@@@@@@\")\n",
    "\n",
    "for exp in experiments:\n",
    "    data = []\n",
    "    ref_data = data_plot.query(f\"Task=='{exp}' and Experiment=='1trial'and noise_level==0.01 and noise_steps==1\")['Reward']\n",
    "    print(f\"--------------------- FOR TASK = {exp} ---------------------\")\n",
    "    for t in trials:        \n",
    "        data.append(data_plot.query(f\"Task=='xhopper' and Experiment=='{t}' and noise_level==0.01 and noise_steps==1\")['Reward'])\n",
    "\n",
    "    print(f\"######### Kruskal-Wallis H Test \")\n",
    "    stat, p = kruskal(ref_data, data[0], data[1], data[2], data[3])\n",
    "    print('stat=%.3f, p=%.3f' % (stat, p))\n",
    "    if p > 0.05:\n",
    "        print('Probably the same distribution')\n",
    "    else:\n",
    "        print('Probably different distributions')"
   ]
  },
  {
   "cell_type": "code",
   "execution_count": 14,
   "id": "dbbbc9f6",
   "metadata": {},
   "outputs": [
    {
     "data": {
      "text/html": [
       "<div>\n",
       "<style scoped>\n",
       "    .dataframe tbody tr th:only-of-type {\n",
       "        vertical-align: middle;\n",
       "    }\n",
       "\n",
       "    .dataframe tbody tr th {\n",
       "        vertical-align: top;\n",
       "    }\n",
       "\n",
       "    .dataframe thead th {\n",
       "        text-align: right;\n",
       "    }\n",
       "</style>\n",
       "<table border=\"1\" class=\"dataframe\">\n",
       "  <thead>\n",
       "    <tr style=\"text-align: right;\">\n",
       "      <th></th>\n",
       "      <th>Reward</th>\n",
       "      <th>steps_taken</th>\n",
       "      <th>Experiment</th>\n",
       "      <th>Task</th>\n",
       "      <th>noise_level</th>\n",
       "      <th>noise_steps</th>\n",
       "      <th>Noise per steps</th>\n",
       "    </tr>\n",
       "    <tr>\n",
       "      <th>Seed</th>\n",
       "      <th></th>\n",
       "      <th></th>\n",
       "      <th></th>\n",
       "      <th></th>\n",
       "      <th></th>\n",
       "      <th></th>\n",
       "      <th></th>\n",
       "    </tr>\n",
       "  </thead>\n",
       "  <tbody>\n",
       "    <tr>\n",
       "      <th>1</th>\n",
       "      <td>2135.027370</td>\n",
       "      <td>1000.0</td>\n",
       "      <td>10trials</td>\n",
       "      <td>xant</td>\n",
       "      <td>0.01</td>\n",
       "      <td>1.0</td>\n",
       "      <td>0.01 - 1.0</td>\n",
       "    </tr>\n",
       "    <tr>\n",
       "      <th>2</th>\n",
       "      <td>903.917633</td>\n",
       "      <td>1000.0</td>\n",
       "      <td>10trials</td>\n",
       "      <td>xant</td>\n",
       "      <td>0.01</td>\n",
       "      <td>1.0</td>\n",
       "      <td>0.01 - 1.0</td>\n",
       "    </tr>\n",
       "    <tr>\n",
       "      <th>3</th>\n",
       "      <td>1693.153828</td>\n",
       "      <td>1000.0</td>\n",
       "      <td>10trials</td>\n",
       "      <td>xant</td>\n",
       "      <td>0.01</td>\n",
       "      <td>1.0</td>\n",
       "      <td>0.01 - 1.0</td>\n",
       "    </tr>\n",
       "    <tr>\n",
       "      <th>4</th>\n",
       "      <td>1667.696133</td>\n",
       "      <td>1000.0</td>\n",
       "      <td>10trials</td>\n",
       "      <td>xant</td>\n",
       "      <td>0.01</td>\n",
       "      <td>1.0</td>\n",
       "      <td>0.01 - 1.0</td>\n",
       "    </tr>\n",
       "    <tr>\n",
       "      <th>5</th>\n",
       "      <td>1335.889879</td>\n",
       "      <td>1000.0</td>\n",
       "      <td>10trials</td>\n",
       "      <td>xant</td>\n",
       "      <td>0.01</td>\n",
       "      <td>1.0</td>\n",
       "      <td>0.01 - 1.0</td>\n",
       "    </tr>\n",
       "    <tr>\n",
       "      <th>...</th>\n",
       "      <td>...</td>\n",
       "      <td>...</td>\n",
       "      <td>...</td>\n",
       "      <td>...</td>\n",
       "      <td>...</td>\n",
       "      <td>...</td>\n",
       "      <td>...</td>\n",
       "    </tr>\n",
       "    <tr>\n",
       "      <th>6</th>\n",
       "      <td>65.082770</td>\n",
       "      <td>102.0</td>\n",
       "      <td>5trials</td>\n",
       "      <td>xwalker</td>\n",
       "      <td>0.55</td>\n",
       "      <td>10.0</td>\n",
       "      <td>0.55 - 10.0</td>\n",
       "    </tr>\n",
       "    <tr>\n",
       "      <th>7</th>\n",
       "      <td>20.610822</td>\n",
       "      <td>635.8</td>\n",
       "      <td>5trials</td>\n",
       "      <td>xwalker</td>\n",
       "      <td>0.55</td>\n",
       "      <td>10.0</td>\n",
       "      <td>0.55 - 10.0</td>\n",
       "    </tr>\n",
       "    <tr>\n",
       "      <th>8</th>\n",
       "      <td>85.563908</td>\n",
       "      <td>104.0</td>\n",
       "      <td>5trials</td>\n",
       "      <td>xwalker</td>\n",
       "      <td>0.55</td>\n",
       "      <td>10.0</td>\n",
       "      <td>0.55 - 10.0</td>\n",
       "    </tr>\n",
       "    <tr>\n",
       "      <th>9</th>\n",
       "      <td>38.058431</td>\n",
       "      <td>58.2</td>\n",
       "      <td>5trials</td>\n",
       "      <td>xwalker</td>\n",
       "      <td>0.55</td>\n",
       "      <td>10.0</td>\n",
       "      <td>0.55 - 10.0</td>\n",
       "    </tr>\n",
       "    <tr>\n",
       "      <th>10</th>\n",
       "      <td>35.571988</td>\n",
       "      <td>114.1</td>\n",
       "      <td>5trials</td>\n",
       "      <td>xwalker</td>\n",
       "      <td>0.55</td>\n",
       "      <td>10.0</td>\n",
       "      <td>0.55 - 10.0</td>\n",
       "    </tr>\n",
       "  </tbody>\n",
       "</table>\n",
       "<p>25000 rows × 7 columns</p>\n",
       "</div>"
      ],
      "text/plain": [
       "           Reward  steps_taken Experiment     Task  noise_level  noise_steps  \\\n",
       "Seed                                                                           \n",
       "1     2135.027370       1000.0   10trials     xant         0.01          1.0   \n",
       "2      903.917633       1000.0   10trials     xant         0.01          1.0   \n",
       "3     1693.153828       1000.0   10trials     xant         0.01          1.0   \n",
       "4     1667.696133       1000.0   10trials     xant         0.01          1.0   \n",
       "5     1335.889879       1000.0   10trials     xant         0.01          1.0   \n",
       "...           ...          ...        ...      ...          ...          ...   \n",
       "6       65.082770        102.0    5trials  xwalker         0.55         10.0   \n",
       "7       20.610822        635.8    5trials  xwalker         0.55         10.0   \n",
       "8       85.563908        104.0    5trials  xwalker         0.55         10.0   \n",
       "9       38.058431         58.2    5trials  xwalker         0.55         10.0   \n",
       "10      35.571988        114.1    5trials  xwalker         0.55         10.0   \n",
       "\n",
       "     Noise per steps  \n",
       "Seed                  \n",
       "1         0.01 - 1.0  \n",
       "2         0.01 - 1.0  \n",
       "3         0.01 - 1.0  \n",
       "4         0.01 - 1.0  \n",
       "5         0.01 - 1.0  \n",
       "...              ...  \n",
       "6        0.55 - 10.0  \n",
       "7        0.55 - 10.0  \n",
       "8        0.55 - 10.0  \n",
       "9        0.55 - 10.0  \n",
       "10       0.55 - 10.0  \n",
       "\n",
       "[25000 rows x 7 columns]"
      ]
     },
     "execution_count": 14,
     "metadata": {},
     "output_type": "execute_result"
    }
   ],
   "source": [
    "data_plot"
   ]
  },
  {
   "cell_type": "markdown",
   "id": "72644e80",
   "metadata": {},
   "source": [
    "### Ant-V0"
   ]
  },
  {
   "cell_type": "code",
   "execution_count": 15,
   "id": "f4325909",
   "metadata": {},
   "outputs": [
    {
     "ename": "ValueError",
     "evalue": "min() arg is an empty sequence",
     "output_type": "error",
     "traceback": [
      "\u001b[0;31m---------------------------------------------------------------------------\u001b[0m",
      "\u001b[0;31mValueError\u001b[0m                                Traceback (most recent call last)",
      "\u001b[0;32m<ipython-input-15-c292826c18bf>\u001b[0m in \u001b[0;36m<module>\u001b[0;34m\u001b[0m\n\u001b[0;32m----> 1\u001b[0;31m ax = sns.boxplot(\n\u001b[0m\u001b[1;32m      2\u001b[0m     \u001b[0mdata\u001b[0m\u001b[0;34m=\u001b[0m\u001b[0mdata_plot\u001b[0m\u001b[0;34m.\u001b[0m\u001b[0mloc\u001b[0m\u001b[0;34m[\u001b[0m\u001b[0mdata_plot\u001b[0m\u001b[0;34m[\u001b[0m\u001b[0;34m'Task'\u001b[0m\u001b[0;34m]\u001b[0m\u001b[0;34m.\u001b[0m\u001b[0mstr\u001b[0m\u001b[0;34m.\u001b[0m\u001b[0mcontains\u001b[0m\u001b[0;34m(\u001b[0m\u001b[0;34m'xantv0'\u001b[0m\u001b[0;34m)\u001b[0m\u001b[0;34m]\u001b[0m\u001b[0;34m,\u001b[0m\u001b[0;34m\u001b[0m\u001b[0;34m\u001b[0m\u001b[0m\n\u001b[1;32m      3\u001b[0m     \u001b[0mx\u001b[0m\u001b[0;34m=\u001b[0m\u001b[0;34m'Task'\u001b[0m\u001b[0;34m,\u001b[0m\u001b[0;34m\u001b[0m\u001b[0;34m\u001b[0m\u001b[0m\n\u001b[1;32m      4\u001b[0m     \u001b[0my\u001b[0m\u001b[0;34m=\u001b[0m\u001b[0;34m'Reward'\u001b[0m\u001b[0;34m,\u001b[0m\u001b[0;34m\u001b[0m\u001b[0;34m\u001b[0m\u001b[0m\n\u001b[1;32m      5\u001b[0m     hue='Experiment')\n",
      "\u001b[0;32m~/anaconda3/lib/python3.8/site-packages/seaborn/_decorators.py\u001b[0m in \u001b[0;36minner_f\u001b[0;34m(*args, **kwargs)\u001b[0m\n\u001b[1;32m     44\u001b[0m             )\n\u001b[1;32m     45\u001b[0m         \u001b[0mkwargs\u001b[0m\u001b[0;34m.\u001b[0m\u001b[0mupdate\u001b[0m\u001b[0;34m(\u001b[0m\u001b[0;34m{\u001b[0m\u001b[0mk\u001b[0m\u001b[0;34m:\u001b[0m \u001b[0marg\u001b[0m \u001b[0;32mfor\u001b[0m \u001b[0mk\u001b[0m\u001b[0;34m,\u001b[0m \u001b[0marg\u001b[0m \u001b[0;32min\u001b[0m \u001b[0mzip\u001b[0m\u001b[0;34m(\u001b[0m\u001b[0msig\u001b[0m\u001b[0;34m.\u001b[0m\u001b[0mparameters\u001b[0m\u001b[0;34m,\u001b[0m \u001b[0margs\u001b[0m\u001b[0;34m)\u001b[0m\u001b[0;34m}\u001b[0m\u001b[0;34m)\u001b[0m\u001b[0;34m\u001b[0m\u001b[0;34m\u001b[0m\u001b[0m\n\u001b[0;32m---> 46\u001b[0;31m         \u001b[0;32mreturn\u001b[0m \u001b[0mf\u001b[0m\u001b[0;34m(\u001b[0m\u001b[0;34m**\u001b[0m\u001b[0mkwargs\u001b[0m\u001b[0;34m)\u001b[0m\u001b[0;34m\u001b[0m\u001b[0;34m\u001b[0m\u001b[0m\n\u001b[0m\u001b[1;32m     47\u001b[0m     \u001b[0;32mreturn\u001b[0m \u001b[0minner_f\u001b[0m\u001b[0;34m\u001b[0m\u001b[0;34m\u001b[0m\u001b[0m\n\u001b[1;32m     48\u001b[0m \u001b[0;34m\u001b[0m\u001b[0m\n",
      "\u001b[0;32m~/anaconda3/lib/python3.8/site-packages/seaborn/categorical.py\u001b[0m in \u001b[0;36mboxplot\u001b[0;34m(x, y, hue, data, order, hue_order, orient, color, palette, saturation, width, dodge, fliersize, linewidth, whis, ax, **kwargs)\u001b[0m\n\u001b[1;32m   2238\u001b[0m ):\n\u001b[1;32m   2239\u001b[0m \u001b[0;34m\u001b[0m\u001b[0m\n\u001b[0;32m-> 2240\u001b[0;31m     plotter = _BoxPlotter(x, y, hue, data, order, hue_order,\n\u001b[0m\u001b[1;32m   2241\u001b[0m                           \u001b[0morient\u001b[0m\u001b[0;34m,\u001b[0m \u001b[0mcolor\u001b[0m\u001b[0;34m,\u001b[0m \u001b[0mpalette\u001b[0m\u001b[0;34m,\u001b[0m \u001b[0msaturation\u001b[0m\u001b[0;34m,\u001b[0m\u001b[0;34m\u001b[0m\u001b[0;34m\u001b[0m\u001b[0m\n\u001b[1;32m   2242\u001b[0m                           width, dodge, fliersize, linewidth)\n",
      "\u001b[0;32m~/anaconda3/lib/python3.8/site-packages/seaborn/categorical.py\u001b[0m in \u001b[0;36m__init__\u001b[0;34m(self, x, y, hue, data, order, hue_order, orient, color, palette, saturation, width, dodge, fliersize, linewidth)\u001b[0m\n\u001b[1;32m    405\u001b[0m \u001b[0;34m\u001b[0m\u001b[0m\n\u001b[1;32m    406\u001b[0m         \u001b[0mself\u001b[0m\u001b[0;34m.\u001b[0m\u001b[0mestablish_variables\u001b[0m\u001b[0;34m(\u001b[0m\u001b[0mx\u001b[0m\u001b[0;34m,\u001b[0m \u001b[0my\u001b[0m\u001b[0;34m,\u001b[0m \u001b[0mhue\u001b[0m\u001b[0;34m,\u001b[0m \u001b[0mdata\u001b[0m\u001b[0;34m,\u001b[0m \u001b[0morient\u001b[0m\u001b[0;34m,\u001b[0m \u001b[0morder\u001b[0m\u001b[0;34m,\u001b[0m \u001b[0mhue_order\u001b[0m\u001b[0;34m)\u001b[0m\u001b[0;34m\u001b[0m\u001b[0;34m\u001b[0m\u001b[0m\n\u001b[0;32m--> 407\u001b[0;31m         \u001b[0mself\u001b[0m\u001b[0;34m.\u001b[0m\u001b[0mestablish_colors\u001b[0m\u001b[0;34m(\u001b[0m\u001b[0mcolor\u001b[0m\u001b[0;34m,\u001b[0m \u001b[0mpalette\u001b[0m\u001b[0;34m,\u001b[0m \u001b[0msaturation\u001b[0m\u001b[0;34m)\u001b[0m\u001b[0;34m\u001b[0m\u001b[0;34m\u001b[0m\u001b[0m\n\u001b[0m\u001b[1;32m    408\u001b[0m \u001b[0;34m\u001b[0m\u001b[0m\n\u001b[1;32m    409\u001b[0m         \u001b[0mself\u001b[0m\u001b[0;34m.\u001b[0m\u001b[0mdodge\u001b[0m \u001b[0;34m=\u001b[0m \u001b[0mdodge\u001b[0m\u001b[0;34m\u001b[0m\u001b[0;34m\u001b[0m\u001b[0m\n",
      "\u001b[0;32m~/anaconda3/lib/python3.8/site-packages/seaborn/categorical.py\u001b[0m in \u001b[0;36mestablish_colors\u001b[0;34m(self, color, palette, saturation)\u001b[0m\n\u001b[1;32m    317\u001b[0m         \u001b[0;31m# Determine the gray color to use for the lines framing the plot\u001b[0m\u001b[0;34m\u001b[0m\u001b[0;34m\u001b[0m\u001b[0;34m\u001b[0m\u001b[0m\n\u001b[1;32m    318\u001b[0m         \u001b[0mlight_vals\u001b[0m \u001b[0;34m=\u001b[0m \u001b[0;34m[\u001b[0m\u001b[0mcolorsys\u001b[0m\u001b[0;34m.\u001b[0m\u001b[0mrgb_to_hls\u001b[0m\u001b[0;34m(\u001b[0m\u001b[0;34m*\u001b[0m\u001b[0mc\u001b[0m\u001b[0;34m)\u001b[0m\u001b[0;34m[\u001b[0m\u001b[0;36m1\u001b[0m\u001b[0;34m]\u001b[0m \u001b[0;32mfor\u001b[0m \u001b[0mc\u001b[0m \u001b[0;32min\u001b[0m \u001b[0mrgb_colors\u001b[0m\u001b[0;34m]\u001b[0m\u001b[0;34m\u001b[0m\u001b[0;34m\u001b[0m\u001b[0m\n\u001b[0;32m--> 319\u001b[0;31m         \u001b[0mlum\u001b[0m \u001b[0;34m=\u001b[0m \u001b[0mmin\u001b[0m\u001b[0;34m(\u001b[0m\u001b[0mlight_vals\u001b[0m\u001b[0;34m)\u001b[0m \u001b[0;34m*\u001b[0m \u001b[0;36m.6\u001b[0m\u001b[0;34m\u001b[0m\u001b[0;34m\u001b[0m\u001b[0m\n\u001b[0m\u001b[1;32m    320\u001b[0m         \u001b[0mgray\u001b[0m \u001b[0;34m=\u001b[0m \u001b[0mmpl\u001b[0m\u001b[0;34m.\u001b[0m\u001b[0mcolors\u001b[0m\u001b[0;34m.\u001b[0m\u001b[0mrgb2hex\u001b[0m\u001b[0;34m(\u001b[0m\u001b[0;34m(\u001b[0m\u001b[0mlum\u001b[0m\u001b[0;34m,\u001b[0m \u001b[0mlum\u001b[0m\u001b[0;34m,\u001b[0m \u001b[0mlum\u001b[0m\u001b[0;34m)\u001b[0m\u001b[0;34m)\u001b[0m\u001b[0;34m\u001b[0m\u001b[0;34m\u001b[0m\u001b[0m\n\u001b[1;32m    321\u001b[0m \u001b[0;34m\u001b[0m\u001b[0m\n",
      "\u001b[0;31mValueError\u001b[0m: min() arg is an empty sequence"
     ]
    }
   ],
   "source": [
    "ax = sns.boxplot(\n",
    "    data=data_plot.loc[data_plot['Task'].str.contains('xantv0')],\n",
    "    x='Task',\n",
    "    y='Reward',\n",
    "    hue='Experiment')\n",
    "_ = ax.set(xlabel='Experiment',\n",
    "       ylabel='Fitness',\n",
    "       title=f'Robustness Overview Ant V0')\n",
    "_ = ax.set_xticklabels(ax.get_xticklabels(), rotation=45)"
   ]
  },
  {
   "cell_type": "markdown",
   "id": "056b5ce0",
   "metadata": {},
   "source": [
    "### HalfCheetah-V0"
   ]
  },
  {
   "cell_type": "code",
   "execution_count": null,
   "id": "ec71b4e6",
   "metadata": {},
   "outputs": [],
   "source": [
    "ax = sns.boxplot(\n",
    "    data=data_plot.loc[data_plot['Task'].str.contains('xhalfcheetahv0')],\n",
    "    x='Task',\n",
    "    y='Reward',\n",
    "    hue='Experiment')\n",
    "_ = ax.set(xlabel='Experiment',\n",
    "       ylabel='Fitness',\n",
    "       title=f'Robustness Overview HalfCheetah V0')\n",
    "_ = ax.set_xticklabels(ax.get_xticklabels(), rotation=45)"
   ]
  },
  {
   "cell_type": "markdown",
   "id": "526cbfdb",
   "metadata": {},
   "source": [
    "### Showing only the best of each case - standard x fixed x incremental-trial x incremental-generation - V0"
   ]
  },
  {
   "cell_type": "code",
   "execution_count": null,
   "id": "770f6082",
   "metadata": {},
   "outputs": [],
   "source": [
    "#Incnoise-fixed diventa standard. \n",
    "#Incnoise-fixed03 diventa fixed-.01 (lo metterei per primo). \n",
    "#Incnoise-fix03 diventa fixed-.3, \n",
    "#Incnoise-fixed06 diventa fixed-.6. \n",
    "#incnoisegen08 diventa incnoise2-.73. \n",
    "#incnoise0104 diventa incremental2-.36. \n",
    "#incnoise0106 diventa incremental2-.55. Mancano i dati i walker2d e di humanoid (sperando che centra tutto).\n"
   ]
  },
  {
   "cell_type": "code",
   "execution_count": null,
   "id": "f30fa650",
   "metadata": {
    "scrolled": true
   },
   "outputs": [],
   "source": [
    "sns.set(font_scale=1.7)\n",
    "\n",
    "fig, ax = plt.subplots(1,2)\n",
    "fig.suptitle(\"Robustness Overview\")\n",
    "\n",
    "experiment_param = \",\".join([f'\\'{x}\\'' for x in expList])\n",
    "expList = [\"incnoise-fixed\",\"incnoise0104\",\"incnoise0106\",\"incnoise-fix03\",\"incnoise-fix06\",\"incnoisegen08\"]\n",
    "taskList = [\"xhopper\", \"xant\", \"xhalfcheetah\"]\n",
    "g = plotExpTaskList(expList,taskList,title='Tasks V5',axis=ax[0])\n",
    "\n",
    "# title\n",
    "leg = g.get_legend()\n",
    "leg.remove()\n",
    "#new_title = 'Version'\n",
    "#leg.set_title(new_title)\n",
    "# replace labels\n",
    "#new_labels=['standard','fixed-.3','fixed-.6','incremental1-.36','incremental1-.55', 'incremental2-.55']\n",
    "#for t, l in zip(leg.texts, new_labels):\n",
    "#    t.set_text(l)\n",
    "    \n",
    "\n",
    "experiment_param = \",\".join([f'\\'{x}\\'' for x in expList])\n",
    "expList = [\"incnoise-fixed\",\"incnoise0104\",\"incnoise0106\",\"incnoise-fix03\",\"incnoise-fix06\",\"incnoisegen08\"]\n",
    "taskList = [\"xhopperv0\", \"xantv0\", \"xhalfcheetahv0\"]\n",
    "g = plotExpTaskList(expList,taskList,title='Tasks V0',axis=ax[1])\n",
    "#plt.legend(title='Version', loc='lower left', labels=['incremental2-.55', 'standard','fixed-.3','fixed-.6','incnoise2-.73'])\n",
    "\n",
    "plt.legend(bbox_to_anchor=(1.02, 0.15), loc=3, borderaxespad=0)\n",
    "\n",
    "# title\n",
    "leg = g.get_legend()\n",
    "new_title = 'Version'\n",
    "leg.set_title(new_title)\n",
    "# replace labels\n",
    "new_labels=['standard','fixed-.3','fixed-.6','incremental1-.36','incremental1-.55', 'incremental2-.55']\n",
    "for t, l in zip(leg.texts, new_labels):\n",
    "    t.set_text(l)\n",
    "\n",
    "fig.set_size_inches(18.5, 8)"
   ]
  },
  {
   "cell_type": "code",
   "execution_count": null,
   "id": "71683824",
   "metadata": {},
   "outputs": [],
   "source": [
    "data_plot.noise_level.unique()"
   ]
  },
  {
   "cell_type": "markdown",
   "id": "b9a66d24",
   "metadata": {},
   "source": [
    "## Standard and robustness post-evaluation conditions - V5"
   ]
  },
  {
   "cell_type": "code",
   "execution_count": null,
   "id": "9ce79aee",
   "metadata": {
    "scrolled": true
   },
   "outputs": [],
   "source": [
    "sns.set(font_scale=1.5)\n",
    "\n",
    "fig, ax = plt.subplots(1,2)\n",
    "fig.suptitle(\"Standard and robustness performance for V5\")\n",
    "\n",
    "\n",
    "experiment_param = \",\".join([f'\\'{x}\\'' for x in expList])\n",
    "expList = [\"incnoise-fixed\",\"incnoise0104\",\"incnoise0106\",\"incnoise-fix03\",\"incnoise-fix06\",\"incnoisegen08\"]\n",
    "taskList = [\"xhopper\", \"xant\", \"xhalfcheetah\"]\n",
    "g = plotExpTaskListStd(expList,taskList,title='Standard post-evaluation (10 trials)',axis=ax[0])\n",
    "\n",
    "# title\n",
    "leg = g.get_legend()\n",
    "leg.remove()    \n",
    "\n",
    "experiment_param = \",\".join([f'\\'{x}\\'' for x in expList])\n",
    "expList = [\"incnoise-fixed\",\"incnoise0104\",\"incnoise0106\",\"incnoise-fix03\",\"incnoise-fix06\",\"incnoisegen08\"]\n",
    "taskList = [\"xhopper\", \"xant\", \"xhalfcheetah\"]\n",
    "g = plotExpTaskList(expList,taskList,title='Robustness post-evaluation (100 trials)',axis=ax[1])\n",
    "#plt.legend(title='Version', loc='lower left', labels=['incremental2-.36','incremental2-.55', 'standard','fixed-.3','fixed-.6','incnoise2-.73'])\n",
    "\n",
    "plt.legend(bbox_to_anchor=(1.02, 0.15), loc=3, borderaxespad=0)\n",
    "\n",
    "\n",
    "leg = g.get_legend()\n",
    "new_title = 'Version'\n",
    "leg.set_title(new_title)\n",
    "# replace labels\n",
    "new_labels=['standard','fixed-.3','fixed-.6','incremental1-.36','incremental1-.55', 'incremental2-.55']\n",
    "for t, l in zip(leg.texts, new_labels):\n",
    "    t.set_text(l)\n",
    "\n",
    "fig.set_size_inches(18.5, 8)"
   ]
  },
  {
   "cell_type": "code",
   "execution_count": null,
   "id": "96a66164",
   "metadata": {
    "scrolled": true
   },
   "outputs": [],
   "source": [
    "sns.set(font_scale=1.5)\n",
    "\n",
    "fig, ax = plt.subplots(1,2)\n",
    "fig.suptitle(\"Standard and robustness performance for V0\")\n",
    "\n",
    "\n",
    "experiment_param = \",\".join([f'\\'{x}\\'' for x in expList])\n",
    "expList = [\"incnoise-fixed\",\"incnoise0104\",\"incnoise0106\",\"incnoise-fix03\",\"incnoise-fix06\",\"incnoisegen08\"]\n",
    "taskList = [\"xhopperv0\", \"xantv0\", \"xhalfcheetahv0\"]\n",
    "g = plotExpTaskListStd(expList,taskList,title='Standard post-evaluation (10 trials)',axis=ax[0])\n",
    "\n",
    "# title\n",
    "leg = g.get_legend()\n",
    "leg.remove()    \n",
    "\n",
    "experiment_param = \",\".join([f'\\'{x}\\'' for x in expList])\n",
    "expList = [\"incnoise-fixed\",\"incnoise0104\",\"incnoise0106\",\"incnoise-fix03\",\"incnoise-fix06\",\"incnoisegen08\"]\n",
    "taskList = [\"xhopperv0\", \"xantv0\", \"xhalfcheetahv0\"]\n",
    "g = plotExpTaskList(expList,taskList,title='Robustness post-evaluation (100 trials)',axis=ax[1])\n",
    "#plt.legend(title='Version', loc='lower left', labels=['incremental2-.36','incremental2-.55', 'standard','fixed-.3','fixed-.6','incnoise2-.73'])\n",
    "\n",
    "plt.legend(bbox_to_anchor=(1.02, 0.15), loc=3, borderaxespad=0)\n",
    "\n",
    "\n",
    "leg = g.get_legend()\n",
    "new_title = 'Version'\n",
    "leg.set_title(new_title)\n",
    "# replace labels\n",
    "new_labels=['standard','fixed-.3','fixed-.6','incremental1-.36','incremental1-.55', 'incremental2-.55']\n",
    "for t, l in zip(leg.texts, new_labels):\n",
    "    t.set_text(l)\n",
    "\n",
    "fig.set_size_inches(18.5, 8)"
   ]
  },
  {
   "cell_type": "markdown",
   "id": "03792f71",
   "metadata": {},
   "source": [
    "## Plot by task x noiseLevel"
   ]
  },
  {
   "cell_type": "code",
   "execution_count": null,
   "id": "4e82b648",
   "metadata": {},
   "outputs": [],
   "source": [
    "noise_level = [0.01, 0.07, 0.13, 0.19, 0.25, 0.31, 0.37, 0.43, 0.49, 0.55]\n",
    "noise_steps = list(range(1,11))\n",
    "\n",
    "ax = sns.boxplot(\n",
    "    data=data_plot.query(\n",
    "            f' \\\n",
    "            Experiment == \"incnoise-fix03\" and  \\\n",
    "            Task == \"xhumanoid\" and \\\n",
    "            noise_level == (@noise_level) and \\\n",
    "            noise_steps == (@noise_steps)'\n",
    "        ,engine=\"python\"),\n",
    "    x='noise_level',\n",
    "    y='Reward',\n",
    "    hue='noise_steps')\n",
    "_ = ax.set(xlabel='Experiment',\n",
    "       ylabel='Fitness',\n",
    "       title=f'Overview Hopper V5')\n",
    "_ = ax.set_xticklabels(ax.get_xticklabels(), rotation=45)\n",
    "\n",
    "plt.legend(bbox_to_anchor=(1.02, 0.15), loc=3, borderaxespad=0)"
   ]
  },
  {
   "cell_type": "code",
   "execution_count": null,
   "id": "b53a8d66",
   "metadata": {},
   "outputs": [],
   "source": [
    "noise_level = [0.01, 0.07, 0.13, 0.19, 0.25, 0.31, 0.37, 0.43, 0.49, 0.55]\n",
    "noise_steps = list(range(1,11))\n",
    "\n",
    "expList2 = data['Experiment'].unique()\n",
    "ax = sns.boxplot(\n",
    "    data=data_plot.query(\n",
    "            f' \\\n",
    "            Experiment.isin(@expList2) and  \\\n",
    "            Task == \"xhumanoid\" and \\\n",
    "            noise_level == (@noise_level) and \\\n",
    "            noise_steps == 1'\n",
    "        ,engine=\"python\"),\n",
    "    x='noise_level',\n",
    "    y='Reward',\n",
    "    hue='Experiment')\n",
    "_ = ax.set(xlabel='Experiment',\n",
    "       ylabel='Fitness',\n",
    "       title=f'Overview Hopper V5')\n",
    "_ = ax.set_xticklabels(ax.get_xticklabels(), rotation=45)\n",
    "\n",
    "plt.legend(bbox_to_anchor=(1.02, 0.15), loc=3, borderaxespad=0)"
   ]
  },
  {
   "cell_type": "code",
   "execution_count": null,
   "id": "f02c759e",
   "metadata": {},
   "outputs": [],
   "source": [
    "noise_level = [0.01, 0.07, 0.13, 0.19, 0.25, 0.31, 0.37, 0.43, 0.49, 0.55]\n",
    "noise_steps = list(range(1,11))\n",
    "\n",
    "ax = sns.boxplot(\n",
    "    data=data_plot.loc[data_plot['Task'].str.contains('xhopperv0')].query(\n",
    "            f' \\\n",
    "            Experiment.isin(@expList) and  \\\n",
    "            Task.isin(@taskList) and \\\n",
    "            noise_level == (@noise_level) and \\\n",
    "            noise_steps == 1'\n",
    "        ,engine=\"python\"),\n",
    "    x='noise_level',\n",
    "    y='Reward',\n",
    "    hue='Experiment')\n",
    "_ = ax.set(xlabel='Experiment',\n",
    "       ylabel='Fitness',\n",
    "       title=f'Robustness Overview Hopper V0')\n",
    "_ = ax.set_xticklabels(ax.get_xticklabels(), rotation=45)\n",
    "\n",
    "plt.legend(bbox_to_anchor=(1.02, 0.15), loc=3, borderaxespad=0)"
   ]
  },
  {
   "cell_type": "markdown",
   "id": "416d1ed9",
   "metadata": {},
   "source": [
    "# Old codes"
   ]
  },
  {
   "cell_type": "markdown",
   "id": "fa602572",
   "metadata": {},
   "source": [
    "### Walker-V0"
   ]
  },
  {
   "cell_type": "code",
   "execution_count": null,
   "id": "b47f55e5",
   "metadata": {},
   "outputs": [],
   "source": [
    "ax = sns.boxplot(\n",
    "    data=data_plot.loc[data_plot['Task'].str.contains('xwalkerv0')],\n",
    "    x='Task',\n",
    "    y='Reward',\n",
    "    hue='Experiment')\n",
    "_ = ax.set(xlabel='Experiment',\n",
    "       ylabel='Fitness',\n",
    "       title=f'Robustness Overview Walker V0')\n",
    "_ = ax.set_xticklabels(ax.get_xticklabels(), rotation=45)"
   ]
  },
  {
   "cell_type": "markdown",
   "id": "f6bafea4",
   "metadata": {},
   "source": [
    "### Humanoid-V0 -- ATTENTION - BY MISTAKE THIS IS V5, ALSO"
   ]
  },
  {
   "cell_type": "code",
   "execution_count": null,
   "id": "02c47b9c",
   "metadata": {},
   "outputs": [],
   "source": [
    "ax = sns.boxplot(\n",
    "    data=data_plot.loc[data_plot['Task'].str.contains('xhumanoidv0')],\n",
    "    x='Task',\n",
    "    y='Reward',\n",
    "    hue='Experiment')\n",
    "_ = ax.set(xlabel='Experiment',\n",
    "       ylabel='Fitness',\n",
    "       title=f'Robustness Overview Humanoid V0 - IT IS ACTUALLY V5')\n",
    "_ = ax.set_xticklabels(ax.get_xticklabels(), rotation=45)"
   ]
  },
  {
   "cell_type": "markdown",
   "id": "4b493db4",
   "metadata": {},
   "source": [
    "### Hopper-V5"
   ]
  },
  {
   "cell_type": "code",
   "execution_count": null,
   "id": "41672eb0",
   "metadata": {},
   "outputs": [],
   "source": [
    "ax = sns.boxplot(\n",
    "    data=data_plot.loc[data_plot['Task'].str.contains('xhopper$')],\n",
    "    x='Task',\n",
    "    y='Reward',\n",
    "    hue='Experiment')\n",
    "_ = ax.set(xlabel='Experiment',\n",
    "       ylabel='Fitness',\n",
    "       title=f'Robustness Overview Hopper V5')\n",
    "_ = ax.set_xticklabels(ax.get_xticklabels(), rotation=45)\n",
    "plt.legend(loc='upper right')"
   ]
  },
  {
   "cell_type": "markdown",
   "id": "d1fd3444",
   "metadata": {},
   "source": [
    "### Ant-V5"
   ]
  },
  {
   "cell_type": "code",
   "execution_count": null,
   "id": "aec5f55d",
   "metadata": {},
   "outputs": [],
   "source": [
    "ax = sns.boxplot(\n",
    "    data=data_plot.loc[data_plot['Task'].str.contains('xant$')],\n",
    "    x='Task',\n",
    "    y='Reward',\n",
    "    hue='Experiment')\n",
    "_ = ax.set(xlabel='Experiment',\n",
    "       ylabel='Fitness',\n",
    "       title=f'Robustness Overview Ant V5')\n",
    "_ = ax.set_xticklabels(ax.get_xticklabels(), rotation=45)\n",
    "plt.legend(loc='upper right')"
   ]
  },
  {
   "cell_type": "markdown",
   "id": "ae89af29",
   "metadata": {},
   "source": [
    "### HalfCheetah-V5"
   ]
  },
  {
   "cell_type": "code",
   "execution_count": null,
   "id": "7784192b",
   "metadata": {},
   "outputs": [],
   "source": [
    "ax = sns.boxplot(\n",
    "    data=data_plot.loc[data_plot['Task'].str.contains('xhalfcheetah$')],\n",
    "    x='Task',\n",
    "    y='Reward',\n",
    "    hue='Experiment')\n",
    "_ = ax.set(xlabel='Experiment',\n",
    "       ylabel='Fitness',\n",
    "       title=f'Robustness Overview HalfCheetah V5')\n",
    "_ = ax.set_xticklabels(ax.get_xticklabels(), rotation=45)"
   ]
  },
  {
   "cell_type": "markdown",
   "id": "b021561d",
   "metadata": {},
   "source": [
    "### Showing only the best of each case - standard x fixed x incremental-trial x incremental-generation - V5"
   ]
  },
  {
   "cell_type": "code",
   "execution_count": null,
   "id": "beafc8b2",
   "metadata": {
    "scrolled": true
   },
   "outputs": [],
   "source": [
    "experiment_param = \",\".join([f'\\'{x}\\'' for x in exp_list])\n",
    "expList = [\"incnoise-fixed\",\"incnoise0104\",\"incnoise0106\",\"incnoise-fix03\",\"incnoise-fix06\",\"incnoisegen08\"]\n",
    "taskList = [\"xhopper\", \"xant\", \"xhalfcheetah\"]\n",
    "g = plotExpTaskList(expList,taskList,title='Robustness Overview V5')\n",
    "\n",
    "# title\n",
    "leg = g.get_legend()\n",
    "new_title = 'Version'\n",
    "leg.set_title(new_title)\n",
    "# replace labels\n",
    "new_labels=['standard','fixed-.3','fixed-.6','incremental1-.36','incremental1-.55', 'incremental2-.55']\n",
    "for t, l in zip(leg.texts, new_labels):\n",
    "    t.set_text(l)"
   ]
  },
  {
   "cell_type": "markdown",
   "id": "31888412",
   "metadata": {},
   "source": [
    "## Standard post-evaluation conditions (10 trials) - V5"
   ]
  },
  {
   "cell_type": "code",
   "execution_count": null,
   "id": "31413d44",
   "metadata": {
    "scrolled": true
   },
   "outputs": [],
   "source": [
    "experiment_param = \",\".join([f'\\'{x}\\'' for x in exp_list])\n",
    "expList = [\"incnoise-fixed\",\"incnoise0104\",\"incnoise0106\",\"incnoise-fix03\",\"incnoise-fix06\",\"incnoisegen08\"]\n",
    "taskList = [\"xhopper\", \"xant\", \"xhalfcheetah\"]\n",
    "g = plotExpTaskListStd(expList,taskList,title='Standard post-evaluation (10 trials) V5')\n",
    "\n",
    "# title\n",
    "leg = g.get_legend()\n",
    "new_title = 'Version'\n",
    "leg.set_title(new_title)\n",
    "# replace labels\n",
    "new_labels=['standard','fixed-.3','fixed-.6','incremental1-.36','incremental1-.55', 'incremental2-.55']\n",
    "for t, l in zip(leg.texts, new_labels):\n",
    "    t.set_text(l)"
   ]
  },
  {
   "cell_type": "markdown",
   "id": "a9ce0953",
   "metadata": {},
   "source": [
    "### Walker-V5"
   ]
  },
  {
   "cell_type": "code",
   "execution_count": null,
   "id": "f9f5dd6d",
   "metadata": {},
   "outputs": [],
   "source": [
    "ax = sns.boxplot(\n",
    "    data=data_plot.loc[data_plot['Task'].str.contains('xwalker$')],\n",
    "    x='Task',\n",
    "    y='Reward',\n",
    "    hue='Experiment')\n",
    "_ = ax.set(xlabel='Experiment',\n",
    "       ylabel='Fitness',\n",
    "       title=f'Robustness Overview Walker V5')\n",
    "_ = ax.set_xticklabels(ax.get_xticklabels(), rotation=45)"
   ]
  },
  {
   "cell_type": "markdown",
   "id": "77a6399d",
   "metadata": {},
   "source": [
    "### Humanoid-V5"
   ]
  },
  {
   "cell_type": "code",
   "execution_count": null,
   "id": "8a1ff939",
   "metadata": {},
   "outputs": [],
   "source": [
    "ax = sns.boxplot(\n",
    "    data=data_plot.loc[data_plot['Task'].str.contains('xhumanoid$')],\n",
    "    x='Task',\n",
    "    y='Reward',\n",
    "    hue='Experiment')\n",
    "_ = ax.set(xlabel='Experiment',\n",
    "       ylabel='Fitness',\n",
    "       title=f'Robustness Overview Humanoid V5')\n",
    "_ = ax.set_xticklabels(ax.get_xticklabels(), rotation=45)"
   ]
  },
  {
   "cell_type": "markdown",
   "id": "93a155a7",
   "metadata": {},
   "source": [
    "## Standard post-evaluation conditions (10 trials)"
   ]
  },
  {
   "cell_type": "markdown",
   "id": "9e731503",
   "metadata": {},
   "source": [
    "### Hopper V0"
   ]
  },
  {
   "cell_type": "code",
   "execution_count": null,
   "id": "5aef3caf",
   "metadata": {},
   "outputs": [],
   "source": [
    "experiment_param = \",\".join([f'\\'{x}\\'' for x in exp_list])\n",
    "ax = sns.boxplot(\n",
    "    data=data_plot.query(\n",
    "        f' \\\n",
    "        Experiment.isin(@exp_list) and  \\\n",
    "        Task.str.contains(\"hopperv0\") and \\\n",
    "        noise_level == 0.01 and \\\n",
    "        noise_steps == 1'\n",
    "    ,engine=\"python\"),\n",
    "    x='Task',\n",
    "    y='Reward',\n",
    "    hue='Experiment')\n",
    "_ = ax.set(xlabel='Experiment',\n",
    "       ylabel='Fitness',\n",
    "       title=f'Standard post-evaluation conditions (10 trials) - V0')\n",
    "_ = ax.set_xticklabels(ax.get_xticklabels(), rotation=45)"
   ]
  },
  {
   "cell_type": "markdown",
   "id": "0ee103b8",
   "metadata": {},
   "source": [
    "### Hopper V5"
   ]
  },
  {
   "cell_type": "code",
   "execution_count": null,
   "id": "db951bc3",
   "metadata": {},
   "outputs": [],
   "source": [
    "experiment_param = \",\".join([f'\\'{x}\\'' for x in exp_list])\n",
    "ax = sns.boxplot(\n",
    "    data=data_plot.query(\n",
    "        f' \\\n",
    "        Experiment.isin(@exp_list) and  \\\n",
    "        Task.str.contains(\"hopper$\") and \\\n",
    "        noise_level == 0.01 and \\\n",
    "        noise_steps == 1'\n",
    "    ,engine=\"python\"),\n",
    "    x='Task',\n",
    "    y='Reward',\n",
    "    hue='Experiment')\n",
    "_ = ax.set(xlabel='Experiment',\n",
    "       ylabel='Fitness',\n",
    "       title=f'Standard post-evaluation conditions (10 trials) - V0')\n",
    "_ = ax.set_xticklabels(ax.get_xticklabels(), rotation=45)"
   ]
  },
  {
   "cell_type": "markdown",
   "id": "de0cdfb8",
   "metadata": {},
   "source": [
    "### Ant V0"
   ]
  },
  {
   "cell_type": "code",
   "execution_count": null,
   "id": "25543ab1",
   "metadata": {},
   "outputs": [],
   "source": [
    "experiment_param = \",\".join([f'\\'{x}\\'' for x in exp_list])\n",
    "ax = sns.boxplot(\n",
    "    data=data_plot.query(\n",
    "        f' \\\n",
    "        Experiment.isin(@exp_list) and  \\\n",
    "        Task.str.contains(\"antv0\") and \\\n",
    "        noise_level == 0.01 and \\\n",
    "        noise_steps == 1'\n",
    "    ,engine=\"python\"),\n",
    "    x='Task',\n",
    "    y='Reward',\n",
    "    hue='Experiment')\n",
    "_ = ax.set(xlabel='Experiment',\n",
    "       ylabel='Fitness',\n",
    "       title=f'Standard post-evaluation conditions (10 trials) - V0')\n",
    "_ = ax.set_xticklabels(ax.get_xticklabels(), rotation=45)"
   ]
  },
  {
   "cell_type": "markdown",
   "id": "61ec82fa",
   "metadata": {},
   "source": [
    "### Ant V5"
   ]
  },
  {
   "cell_type": "code",
   "execution_count": null,
   "id": "d04178c0",
   "metadata": {},
   "outputs": [],
   "source": [
    "experiment_param = \",\".join([f'\\'{x}\\'' for x in exp_list])\n",
    "ax = sns.boxplot(\n",
    "    data=data_plot.query(\n",
    "        f' \\\n",
    "        Experiment.isin(@exp_list) and  \\\n",
    "        Task.str.contains(\"ant$\") and \\\n",
    "        noise_level == 0.01 and \\\n",
    "        noise_steps == 1'\n",
    "    ,engine=\"python\"),\n",
    "    x='Task',\n",
    "    y='Reward',\n",
    "    hue='Experiment')\n",
    "_ = ax.set(xlabel='Experiment',\n",
    "       ylabel='Fitness',\n",
    "       title=f'Standard post-evaluation conditions (10 trials) - Ant V5')\n",
    "_ = ax.set_xticklabels(ax.get_xticklabels(), rotation=45)"
   ]
  },
  {
   "cell_type": "markdown",
   "id": "d73b74c3",
   "metadata": {},
   "source": [
    "### HalfCheetah V0"
   ]
  },
  {
   "cell_type": "code",
   "execution_count": null,
   "id": "d2fd4154",
   "metadata": {},
   "outputs": [],
   "source": [
    "experiment_param = \",\".join([f'\\'{x}\\'' for x in exp_list])\n",
    "ax = sns.boxplot(\n",
    "    data=data_plot.query(\n",
    "        f' \\\n",
    "        Experiment.isin(@exp_list) and  \\\n",
    "        Task.str.contains(\"halfcheetahv0\") and \\\n",
    "        noise_level == 0.01 and \\\n",
    "        noise_steps == 1'\n",
    "    ,engine=\"python\"),\n",
    "    x='Task',\n",
    "    y='Reward',\n",
    "    hue='Experiment')\n",
    "_ = ax.set(xlabel='Experiment',\n",
    "       ylabel='Fitness',\n",
    "       title=f'Standard post-evaluation conditions (10 trials) - V0')\n",
    "_ = ax.set_xticklabels(ax.get_xticklabels(), rotation=45)"
   ]
  },
  {
   "cell_type": "markdown",
   "id": "8348ddd7",
   "metadata": {},
   "source": [
    "### HalfCheetah V5"
   ]
  },
  {
   "cell_type": "code",
   "execution_count": null,
   "id": "4d967de6",
   "metadata": {},
   "outputs": [],
   "source": [
    "experiment_param = \",\".join([f'\\'{x}\\'' for x in exp_list])\n",
    "ax = sns.boxplot(\n",
    "    data=data_plot.query(\n",
    "        f' \\\n",
    "        Experiment.isin(@exp_list) and  \\\n",
    "        Task.str.contains(\"halfcheetah$\") and \\\n",
    "        noise_level == 0.01 and \\\n",
    "        noise_steps == 1'\n",
    "    ,engine=\"python\"),\n",
    "    x='Task',\n",
    "    y='Reward',\n",
    "    hue='Experiment')\n",
    "_ = ax.set(xlabel='Experiment',\n",
    "       ylabel='Fitness',\n",
    "       title=f'Standard post-evaluation conditions (10 trials) - HalfCheetah V5')\n",
    "_ = ax.set_xticklabels(ax.get_xticklabels(), rotation=45)"
   ]
  },
  {
   "cell_type": "markdown",
   "id": "64e7f42a",
   "metadata": {},
   "source": [
    "### Walker V0"
   ]
  },
  {
   "cell_type": "code",
   "execution_count": null,
   "id": "c9a0adde",
   "metadata": {},
   "outputs": [],
   "source": [
    "experiment_param = \",\".join([f'\\'{x}\\'' for x in exp_list])\n",
    "ax = sns.boxplot(\n",
    "    data=data_plot.query(\n",
    "        f' \\\n",
    "        Experiment.isin(@exp_list) and  \\\n",
    "        Task.str.contains(\"walkerv0\") and \\\n",
    "        noise_level == 0.01 and \\\n",
    "        noise_steps == 1'\n",
    "    ,engine=\"python\"),\n",
    "    x='Task',\n",
    "    y='Reward',\n",
    "    hue='Experiment')\n",
    "_ = ax.set(xlabel='Experiment',\n",
    "       ylabel='Fitness',\n",
    "       title=f'Standard post-evaluation conditions (10 trials) - V0')\n",
    "_ = ax.set_xticklabels(ax.get_xticklabels(), rotation=45)"
   ]
  },
  {
   "cell_type": "markdown",
   "id": "19285ff8",
   "metadata": {},
   "source": [
    "### Walker V5"
   ]
  },
  {
   "cell_type": "code",
   "execution_count": null,
   "id": "56f0afc4",
   "metadata": {
    "scrolled": true
   },
   "outputs": [],
   "source": [
    "experiment_param = \",\".join([f'\\'{x}\\'' for x in exp_list])\n",
    "ax = sns.boxplot(\n",
    "    data=data_plot.query(\n",
    "        f' \\\n",
    "        Experiment.isin(@exp_list) and  \\\n",
    "        Task.str.contains(\"walker$\") and \\\n",
    "        noise_level == 0.01 and \\\n",
    "        noise_steps == 1'\n",
    "    ,engine=\"python\"),\n",
    "    x='Task',\n",
    "    y='Reward',\n",
    "    hue='Experiment')\n",
    "_ = ax.set(xlabel='Experiment',\n",
    "       ylabel='Fitness',\n",
    "       title=f'Standard post-evaluation conditions (10 trials) - Humanoid V5')\n",
    "_ = ax.set_xticklabels(ax.get_xticklabels(), rotation=45)"
   ]
  },
  {
   "cell_type": "markdown",
   "id": "e590f054",
   "metadata": {},
   "source": [
    "### Humanoid V0 was not run"
   ]
  },
  {
   "cell_type": "markdown",
   "id": "b18ae587",
   "metadata": {},
   "source": [
    "### Humanoid V5"
   ]
  },
  {
   "cell_type": "code",
   "execution_count": null,
   "id": "8cf20fc6",
   "metadata": {},
   "outputs": [],
   "source": [
    "experiment_param = \",\".join([f'\\'{x}\\'' for x in exp_list])\n",
    "ax = sns.boxplot(\n",
    "    data=data_plot.query(\n",
    "        f' \\\n",
    "        Experiment.isin(@exp_list) and  \\\n",
    "        Task.str.contains(\"humanoid$\") and \\\n",
    "        noise_level == 0.01 and \\\n",
    "        noise_steps == 1'\n",
    "    ,engine=\"python\"),\n",
    "    x='Task',\n",
    "    y='Reward',\n",
    "    hue='Experiment')\n",
    "_ = ax.set(xlabel='Experiment',\n",
    "       ylabel='Fitness',\n",
    "       title=f'Standard post-evaluation conditions (10 trials) - Ant V5')\n",
    "_ = ax.set_xticklabels(ax.get_xticklabels(), rotation=45)"
   ]
  },
  {
   "cell_type": "markdown",
   "id": "eae959e3",
   "metadata": {},
   "source": [
    "## Previous results"
   ]
  },
  {
   "cell_type": "markdown",
   "id": "022e61ff",
   "metadata": {},
   "source": [
    "## Robustness overview - v5"
   ]
  },
  {
   "cell_type": "code",
   "execution_count": null,
   "id": "171fcb7c",
   "metadata": {},
   "outputs": [],
   "source": [
    "ax = sns.boxplot(\n",
    "    data=data_plot.query(\n",
    "        f' \\\n",
    "        Experiment.isin(@exp_list) and  \\\n",
    "        Task.isin(@tasks_v5)'\n",
    "    ,engine=\"python\"),\n",
    "    x='Task',\n",
    "    y='Reward',\n",
    "    hue='Experiment')\n",
    "_ = ax.set(xlabel='Experiment',\n",
    "       ylabel='Fitness',\n",
    "       title=f'Robustness Overview V5')"
   ]
  },
  {
   "cell_type": "markdown",
   "id": "0b38d633",
   "metadata": {},
   "source": [
    "## Standard post-evaluation conditions (10 trials) - V5"
   ]
  },
  {
   "cell_type": "code",
   "execution_count": null,
   "id": "61d9ec09",
   "metadata": {},
   "outputs": [],
   "source": [
    "ax = sns.boxplot(\n",
    "    data=data_plot.query(\n",
    "        f' \\\n",
    "        Experiment.isin(@exp_list) and  \\\n",
    "        Task.isin(@tasks_v5) and \\\n",
    "        noise_level == 0.01 and \\\n",
    "        noise_steps == 1'\n",
    "    ,engine=\"python\"),\n",
    "    x='Task',\n",
    "    y='Reward',\n",
    "    hue='Experiment')\n",
    "_ = ax.set(xlabel='Experiment',\n",
    "       ylabel='Fitness',\n",
    "       title=f'Standard post-evaluation conditions (10 trials) - V5')"
   ]
  },
  {
   "cell_type": "code",
   "execution_count": null,
   "id": "49881875",
   "metadata": {},
   "outputs": [],
   "source": [
    "tmp = data_plot.query(\n",
    "        f' \\\n",
    "        Experiment.isin(@exp_list) and  \\\n",
    "        Task.isin(@tasks_v5) and \\\n",
    "        noise_level == 0.01 and \\\n",
    "        noise_steps == 1'\n",
    "    ,engine=\"python\")\n",
    "data.query('Experiment == \"incnoise-nsteps\" and Task==\"xhopper\" and corr_n_steps==1 and noise_level==0.01').iloc[50:100,:].head(50)[['Seed','Trial','Reward']]"
   ]
  },
  {
   "cell_type": "markdown",
   "id": "4481ad2f",
   "metadata": {},
   "source": [
    "## Robustness overview - v0"
   ]
  },
  {
   "cell_type": "code",
   "execution_count": null,
   "id": "ad018032",
   "metadata": {
    "scrolled": true
   },
   "outputs": [],
   "source": [
    "ax = sns.boxplot(\n",
    "    data=data_plot.query(\n",
    "        f' \\\n",
    "        Experiment.isin(@exp_list) and  \\\n",
    "        Task.isin(@tasks_v0)'\n",
    "    ,engine=\"python\"),\n",
    "    x='Task',\n",
    "    y='Reward',\n",
    "    hue='Experiment')\n",
    "_ = ax.set(xlabel='Experiment',\n",
    "       ylabel='Fitness',\n",
    "       title=f'Robustness Overview V0')"
   ]
  },
  {
   "cell_type": "markdown",
   "id": "00e7d688",
   "metadata": {},
   "source": [
    "## Standard post-evaluation conditions (10 trials) - V0"
   ]
  },
  {
   "cell_type": "code",
   "execution_count": null,
   "id": "9d3bfc64",
   "metadata": {},
   "outputs": [],
   "source": [
    "experiment_param = \",\".join([f'\\'{x}\\'' for x in exp_list])\n",
    "ax = sns.boxplot(\n",
    "    data=data_plot.query(\n",
    "        f' \\\n",
    "        Experiment.isin(@exp_list) and  \\\n",
    "        Task.isin(@tasks_v0) and \\\n",
    "        noise_level == 0.01 and \\\n",
    "        noise_steps == 1'\n",
    "    ,engine=\"python\"),\n",
    "    x='Task',\n",
    "    y='Reward',\n",
    "    hue='Experiment')\n",
    "_ = ax.set(xlabel='Experiment',\n",
    "       ylabel='Fitness',\n",
    "       title=f'Standard post-evaluation conditions (10 trials) - V0')"
   ]
  },
  {
   "cell_type": "markdown",
   "id": "0e5295a8",
   "metadata": {},
   "source": [
    "## Experiment vs Noise Level - Uncorrelated - V0"
   ]
  },
  {
   "cell_type": "code",
   "execution_count": null,
   "id": "1ac7a430",
   "metadata": {},
   "outputs": [],
   "source": [
    "for exp in exp_list:\n",
    "    steps = 1\n",
    "    ax = sns.boxplot(\n",
    "        data=data_plot.query(\n",
    "            f' \\\n",
    "            Experiment == \"{exp}\" and  \\\n",
    "            Task.isin(@tasks_v5) and  \\\n",
    "            noise_steps == {steps} and  \\\n",
    "            noise_level in (0.01,0.07,0.13,0.19,0.25,0.31,0.37,0.43,0.49,0.55)'\n",
    "        ,engine=\"python\"),\n",
    "        x='Task',\n",
    "        y='Reward',\n",
    "        hue='noise_level')\n",
    "    _ = ax.set(xlabel='Experiment',\n",
    "           ylabel='Fitness',\n",
    "           title=f'Experiment {exp} - Noise steps: {steps} - V0')\n",
    "    plt.figure()"
   ]
  },
  {
   "cell_type": "markdown",
   "id": "9529ac4f",
   "metadata": {},
   "source": [
    "## Experiment vs Noise Level - Uncorrelated - V5"
   ]
  },
  {
   "cell_type": "code",
   "execution_count": null,
   "id": "e3c48822",
   "metadata": {},
   "outputs": [],
   "source": [
    "for exp in exp_list:\n",
    "    steps = 1\n",
    "    ax = sns.boxplot(\n",
    "        data=data_plot.query(\n",
    "            f' \\\n",
    "            Experiment == \"{exp}\" and  \\\n",
    "            Task.isin(@tasks_v5) and  \\\n",
    "            noise_steps == {steps} and  \\\n",
    "            noise_level in (0.01,0.07,0.13,0.19,0.25,0.31,0.37,0.43,0.49,0.55)'\n",
    "        ,engine=\"python\"),\n",
    "        x='Task',\n",
    "        y='Reward',\n",
    "        hue='noise_level')\n",
    "    _ = ax.set(xlabel='Experiment',\n",
    "           ylabel='Fitness',\n",
    "           title=f'Experiment {exp} - Noise steps: {steps} - V5')\n",
    "    plt.figure()"
   ]
  },
  {
   "cell_type": "markdown",
   "id": "6b971298",
   "metadata": {},
   "source": [
    "## Experiment vs Noise Steps "
   ]
  },
  {
   "cell_type": "code",
   "execution_count": null,
   "id": "f0aa55dd",
   "metadata": {},
   "outputs": [],
   "source": [
    "exp = E0106\n",
    "noise_level = 0.01\n",
    "ax = sns.boxplot(\n",
    "    data=data_plot.query(\n",
    "        f' \\\n",
    "        Experiment == \"{exp}\" and  \\\n",
    "        Task.isin(@tasks_v0) and  \\\n",
    "        noise_level == {noise_level} and  \\\n",
    "        noise_steps in (1,2,3,4,5,6,7,8,9,10)'\n",
    "    ,engine=\"python\"),\n",
    "    x='Task',\n",
    "    y='Reward',\n",
    "    hue='noise_steps')\n",
    "_ = ax.set(xlabel='Noise Level',\n",
    "       ylabel='Fitness',\n",
    "       title=f'Experiment {exp} - Noise level: {noise_level} - V0')"
   ]
  },
  {
   "cell_type": "markdown",
   "id": "79f623fd",
   "metadata": {},
   "source": [
    "## Task vs NoiseSteps"
   ]
  },
  {
   "cell_type": "code",
   "execution_count": null,
   "id": "18771714",
   "metadata": {},
   "outputs": [],
   "source": [
    "exp = E0106\n",
    "task = TANT\n",
    "noise_level = 0.01\n",
    "ax = sns.boxplot(\n",
    "    data=data_plot.query(\n",
    "        f' \\\n",
    "        Experiment.isin(@exp_list) and  \\\n",
    "        (Task == \"{task}\") and  \\\n",
    "        noise_level == {noise_level} and  \\\n",
    "        noise_steps in (1,2,3,4,5,6,7,8,9,10)'\n",
    "    ,engine=\"python\"),\n",
    "    x='noise_steps',\n",
    "    y='Reward',\n",
    "    hue='Experiment')\n",
    "_ = ax.set(xlabel='Noise Steps',\n",
    "       ylabel='Fitness',\n",
    "       title=f'Experiment {exp} - Task {task} - Noise level: {noise_level}')"
   ]
  }
 ],
 "metadata": {
  "kernelspec": {
   "display_name": "Python 3",
   "language": "python",
   "name": "python3"
  },
  "language_info": {
   "codemirror_mode": {
    "name": "ipython",
    "version": 3
   },
   "file_extension": ".py",
   "mimetype": "text/x-python",
   "name": "python",
   "nbconvert_exporter": "python",
   "pygments_lexer": "ipython3",
   "version": "3.8.8"
  }
 },
 "nbformat": 4,
 "nbformat_minor": 5
}
