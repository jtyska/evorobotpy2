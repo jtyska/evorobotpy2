{
 "cells": [
  {
   "cell_type": "code",
   "execution_count": 89,
   "metadata": {},
   "outputs": [],
   "source": [
    "import numpy as np\n",
    "import seaborn as sns\n",
    "import pandas as pd\n",
    "import matplotlib.pyplot as plt"
   ]
  },
  {
   "cell_type": "markdown",
   "metadata": {},
   "source": [
    "### Hopper experiment"
   ]
  },
  {
   "cell_type": "markdown",
   "metadata": {},
   "source": [
    "#### Performance analysis"
   ]
  },
  {
   "cell_type": "code",
   "execution_count": 35,
   "metadata": {},
   "outputs": [
    {
     "data": {
      "text/plain": [
       "<AxesSubplot:xlabel='experiment', ylabel='performance'>"
      ]
     },
     "execution_count": 35,
     "metadata": {},
     "output_type": "execute_result"
    },
    {
     "data": {
      "image/png": "[encoded data removed]",
      "text/plain": [
       "<Figure size 432x288 with 1 Axes>"
      ]
     },
     "metadata": {
      "needs_background": "light"
     },
     "output_type": "display_data"
    }
   ],
   "source": [
    "vStat = []\n",
    "initSeed = 1\n",
    "numSeed = 10\n",
    "experiments = [\"xhopperStdWoNoise\",\"xhopperStdWithNoise\",\"xhopperStdWithMinNoise.15\"] #fill here the experiment\n",
    "\n",
    "for experiment in experiments:\n",
    "    for i in range(initSeed,numSeed):\n",
    "        f = open(f\"{experiment}/S{i}.fit\", \"r\")\n",
    "        vStat.append((experiment,i,float(f.read().split(\"bestgfit\")[0].split(\"bestfit\")[1].strip())))    \n",
    "#print(f\"Average performance on {numSeed} seeds: {np.mean(vStat)} - Std deviation: {np.std(vStat)}\")\n",
    "df = pd.DataFrame(vStat,columns=['experiment','seed','performance'])\n",
    "sns.boxplot(x=df.experiment,y=df.performance)"
   ]
  },
  {
   "cell_type": "code",
   "execution_count": 45,
   "metadata": {},
   "outputs": [
    {
     "name": "stdout",
     "output_type": "stream",
     "text": [
      "Performance of experiment xhopperStdWoNoise (10 seeds): 1055.0733333333333 +- 23.62645022003939\n",
      "Performance of experiment xhopperStdWithNoise (10 seeds): 1550.8622222222223 +- 658.2763420057297\n"
     ]
    }
   ],
   "source": [
    "for exp in experiments:\n",
    "    print(f\"Performance of experiment {exp} ({numSeed} seeds): {df[df['experiment']==exp]['performance'].mean()} +- {df[df['experiment']==exp]['performance'].std()}\")"
   ]
  },
  {
   "cell_type": "code",
   "execution_count": 42,
   "metadata": {},
   "outputs": [
    {
     "data": {
      "text/plain": [
       "1055.0733333333333"
      ]
     },
     "execution_count": 42,
     "metadata": {},
     "output_type": "execute_result"
    }
   ],
   "source": [
    "df[df['experiment']=='xhopperStdWoNoise']['performance'].mean()"
   ]
  },
  {
   "cell_type": "markdown",
   "metadata": {},
   "source": [
    "#### Noise Analysis - Standard Reward with PGN noise - no limitation"
   ]
  },
  {
   "cell_type": "markdown",
   "metadata": {},
   "source": [
    "-- Loading data"
   ]
  },
  {
   "cell_type": "code",
   "execution_count": 82,
   "metadata": {},
   "outputs": [],
   "source": [
    "seed = list(range(1,11))\n",
    "motion = list(map(lambda x: x<5,seed))\n",
    "noiseParameter = np.array([[-1.057036,-0.904793,-1.627683],\n",
    "[-0.951210,-1.543393,-1.652689],\n",
    "[-1.143012,-1.943825,-1.704224],\n",
    "[-0.792456,-0.867625,-1.954244],\n",
    "[-2.242359,-1.939327,-1.696721],\n",
    "[-2.335426,-1.985879,-1.653965],\n",
    "[-2.133642,-2.153280,-1.664309],\n",
    "[-2.153533,-1.973502,-1.632281],\n",
    "[-2.239090,-2.126331,-1.590877],\n",
    "[-2.116482,-2.062976,-1.566676]])\n",
    "noise0,noise1,noise2 = np.split(noiseParameter,3,axis=1)\n",
    "data = zip(seed,motion,list(map(float,noise0)),list(map(float,noise1)),list(map(float,noise2)))\n",
    "df = pd.DataFrame(data,columns=['seed','motion','noise0','noise1','noise2'])"
   ]
  },
  {
   "cell_type": "code",
   "execution_count": 95,
   "metadata": {},
   "outputs": [
    {
     "data": {
      "text/plain": [
       "0   -1.057036\n",
       "1   -0.951210\n",
       "2   -1.143012\n",
       "3   -0.792456\n",
       "4   -2.242359\n",
       "5   -2.335426\n",
       "6   -2.133642\n",
       "7   -2.153533\n",
       "8   -2.239090\n",
       "9   -2.116482\n",
       "Name: noise0, dtype: float64"
      ]
     },
     "execution_count": 95,
     "metadata": {},
     "output_type": "execute_result"
    }
   ],
   "source": []
  },
  {
   "cell_type": "markdown",
   "metadata": {},
   "source": [
    "**Ploting and Clustering**"
   ]
  },
  {
   "cell_type": "code",
   "execution_count": 96,
   "metadata": {},
   "outputs": [
    {
     "data": {
      "text/plain": [
       "Text(0, 0.5, 'noise1')"
      ]
     },
     "execution_count": 96,
     "metadata": {},
     "output_type": "execute_result"
    },
    {
     "data": {
      "image/png": "[encoded data removed]",
      "text/plain": [
       "<Figure size 432x288 with 1 Axes>"
      ]
     },
     "metadata": {
      "needs_background": "light"
     },
     "output_type": "display_data"
    }
   ],
   "source": [
    "plt.scatter(df.iloc[:,2], df.iloc[:,3], c=df['motion'], cmap='gist_rainbow')\n",
    "plt.xlabel('noise0')\n",
    "plt.ylabel('noise1')"
   ]
  },
  {
   "cell_type": "code",
   "execution_count": 86,
   "metadata": {},
   "outputs": [],
   "source": [
    "# importando e instanciando o modelo com valor pré-definido de k\n",
    "from sklearn.cluster import KMeans\n",
    "kmean = KMeans(n_clusters = 2, random_state=1)\n",
    "\n",
    "#treinando apenas com dois atributos\n",
    "kmean.fit(df[['noise0','noise1']])\n",
    "centers = kmean.cluster_centers_"
   ]
  },
  {
   "cell_type": "code",
   "execution_count": null,
   "metadata": {},
   "outputs": [],
   "source": [
    "new_labels = kmean.labels_\n",
    "# Plot the identified clusters and compare\n",
    "fig, axes = plt.subplots(1, 2, figsize=(16,7))\n",
    "axes[0].scatter(df.iloc[:,2], df.iloc[:,3], c=df['motion'], edgecolor='k', s=150)\n",
    "axes[1].scatter(df.iloc[:,2], df.iloc[:,3], c=new_labels, cmap='jet', edgecolor='k', s=150)\n",
    "axes[1].scatter(centers[:, 0], centers[:, 1], edgecolor='k', s=150)\n",
    "axes[0].set_xlabel('noise0')\n",
    "axes[0].set_ylabel('nosie1')\n",
    "axes[1].set_xlabel('noise0')\n",
    "axes[1].set_ylabel('noise1')\n",
    "axes[0].set_title('Original')\n",
    "axes[1].set_title('Predicted')"
   ]
  }
 ],
 "metadata": {
  "kernelspec": {
   "display_name": "Python 3",
   "language": "python",
   "name": "python3"
  },
  "language_info": {
   "codemirror_mode": {
    "name": "ipython",
    "version": 3
   },
   "file_extension": ".py",
   "mimetype": "text/x-python",
   "name": "python",
   "nbconvert_exporter": "python",
   "pygments_lexer": "ipython3",
   "version": "3.8.10"
  }
 },
 "nbformat": 4,
 "nbformat_minor": 4
}
